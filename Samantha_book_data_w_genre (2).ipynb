{
 "cells": [
  {
   "cell_type": "markdown",
   "id": "passing-african",
   "metadata": {},
   "source": [
    "# Dataset Name: book_data.csv\n",
    "Description: dataset of 54301 books \n",
    "\n",
    "    includes columns:\n",
    "    1. book_authors\n",
    "    2. book_desc\n",
    "    3. book_edition\n",
    "    4. book_format\n",
    "    5. book_isbn\n",
    "    6. book_pages\n",
    "    7. book_rating\n",
    "    8. book_rating_count\n",
    "    9. book_review_count\n",
    "    10. book_title\n",
    "    11. genres (separated with '|')\n",
    "    12. image_url"
   ]
  },
  {
   "cell_type": "markdown",
   "id": "crucial-thousand",
   "metadata": {},
   "source": [
    "# Load Libraries"
   ]
  },
  {
   "cell_type": "code",
   "execution_count": 41,
   "id": "false-adoption",
   "metadata": {},
   "outputs": [],
   "source": [
    "import pandas as pd\n",
    "import numpy as np\n",
    "import matplotlib.pyplot as plt\n",
    "import matplotlib\n",
    "import csv\n",
    "import seaborn as sns\n",
    "import statistics as stat\n",
    "import collections\n",
    "from numpy.random import rand\n",
    "from matplotlib.colors import ListedColormap\n",
    "my_cmap = ListedColormap(sns.color_palette('YlOrBr'))\n",
    "my_cmap2 = ListedColormap(sns.color_palette('Blues_d'))\n",
    "from matplotlib.colors import Normalize"
   ]
  },
  {
   "cell_type": "markdown",
   "id": "humanitarian-drink",
   "metadata": {},
   "source": [
    "# Data Preprocessing\n",
    "{printing attributes, removing null values, drop 'book_isbn'}"
   ]
  },
  {
   "cell_type": "code",
   "execution_count": 2,
   "id": "employed-viewer",
   "metadata": {},
   "outputs": [
    {
     "data": {
      "text/plain": [
       "pandas.core.frame.DataFrame"
      ]
     },
     "execution_count": 2,
     "metadata": {},
     "output_type": "execute_result"
    }
   ],
   "source": [
    "books = pd.read_csv('book_data.csv',error_bad_lines = False) \n",
    "type(books) # books is a DataFrame"
   ]
  },
  {
   "cell_type": "code",
   "execution_count": 3,
   "id": "powered-russian",
   "metadata": {},
   "outputs": [
    {
     "name": "stdout",
     "output_type": "stream",
     "text": [
      "There are 54301 rows and 12 columns in the dataset.\n"
     ]
    }
   ],
   "source": [
    "print(\"There are {} rows and {} columns in the dataset.\".format(books.shape[0], books.shape[1]))"
   ]
  },
  {
   "cell_type": "code",
   "execution_count": 4,
   "id": "careful-cleaners",
   "metadata": {},
   "outputs": [
    {
     "data": {
      "text/plain": [
       "(54301, 12)"
      ]
     },
     "execution_count": 4,
     "metadata": {},
     "output_type": "execute_result"
    }
   ],
   "source": [
    "books.shape"
   ]
  },
  {
   "cell_type": "code",
   "execution_count": 5,
   "id": "blond-chance",
   "metadata": {},
   "outputs": [
    {
     "name": "stdout",
     "output_type": "stream",
     "text": [
      "['book_authors' 'book_desc' 'book_edition' 'book_format' 'book_isbn'\n",
      " 'book_pages' 'book_rating' 'book_rating_count' 'book_review_count'\n",
      " 'book_title' 'genres' 'image_url']\n"
     ]
    }
   ],
   "source": [
    "attributes = np.array(books.columns)\n",
    "print(attributes)"
   ]
  },
  {
   "cell_type": "markdown",
   "id": "aware-india",
   "metadata": {},
   "source": [
    "A Glimpse into the Rows/Columns of the Dataset:"
   ]
  },
  {
   "cell_type": "code",
   "execution_count": 40,
   "id": "weird-posting",
   "metadata": {},
   "outputs": [
    {
     "data": {
      "text/html": [
       "<div>\n",
       "<style scoped>\n",
       "    .dataframe tbody tr th:only-of-type {\n",
       "        vertical-align: middle;\n",
       "    }\n",
       "\n",
       "    .dataframe tbody tr th {\n",
       "        vertical-align: top;\n",
       "    }\n",
       "\n",
       "    .dataframe thead th {\n",
       "        text-align: right;\n",
       "    }\n",
       "</style>\n",
       "<table border=\"1\" class=\"dataframe\">\n",
       "  <thead>\n",
       "    <tr style=\"text-align: right;\">\n",
       "      <th></th>\n",
       "      <th>book_authors</th>\n",
       "      <th>book_desc</th>\n",
       "      <th>book_edition</th>\n",
       "      <th>book_format</th>\n",
       "      <th>book_isbn</th>\n",
       "      <th>book_pages</th>\n",
       "      <th>book_rating</th>\n",
       "      <th>book_rating_count</th>\n",
       "      <th>book_review_count</th>\n",
       "      <th>book_title</th>\n",
       "      <th>genres</th>\n",
       "      <th>image_url</th>\n",
       "      <th>rate_group</th>\n",
       "      <th>genres_spanned</th>\n",
       "      <th>books_format</th>\n",
       "      <th>title_word_len</th>\n",
       "      <th>book_pgs</th>\n",
       "    </tr>\n",
       "  </thead>\n",
       "  <tbody>\n",
       "    <tr>\n",
       "      <th>0</th>\n",
       "      <td>Suzanne Collins</td>\n",
       "      <td>Winning will make you famous. Losing means cer...</td>\n",
       "      <td>NaN</td>\n",
       "      <td>Hardcover</td>\n",
       "      <td>9.78044E+12</td>\n",
       "      <td>374 pages</td>\n",
       "      <td>4.33</td>\n",
       "      <td>5519135</td>\n",
       "      <td>160706</td>\n",
       "      <td>The Hunger Games</td>\n",
       "      <td>Young Adult|Fiction|Science Fiction|Dystopia|F...</td>\n",
       "      <td>https://images.gr-assets.com/books/1447303603l...</td>\n",
       "      <td>Good (4-4.5)</td>\n",
       "      <td>6.0</td>\n",
       "      <td>2</td>\n",
       "      <td>3.0</td>\n",
       "      <td>374.0</td>\n",
       "    </tr>\n",
       "    <tr>\n",
       "      <th>1</th>\n",
       "      <td>J.K. Rowling|Mary GrandPré</td>\n",
       "      <td>There is a door at the end of a silent corrido...</td>\n",
       "      <td>US Edition</td>\n",
       "      <td>Paperback</td>\n",
       "      <td>9.78044E+12</td>\n",
       "      <td>870 pages</td>\n",
       "      <td>4.48</td>\n",
       "      <td>2041594</td>\n",
       "      <td>33264</td>\n",
       "      <td>Harry Potter and the Order of the Phoenix</td>\n",
       "      <td>Fantasy|Young Adult|Fiction</td>\n",
       "      <td>https://images.gr-assets.com/books/1255614970l...</td>\n",
       "      <td>Good (4-4.5)</td>\n",
       "      <td>3.0</td>\n",
       "      <td>1</td>\n",
       "      <td>8.0</td>\n",
       "      <td>870.0</td>\n",
       "    </tr>\n",
       "    <tr>\n",
       "      <th>2</th>\n",
       "      <td>Harper Lee</td>\n",
       "      <td>The unforgettable novel of a childhood in a sl...</td>\n",
       "      <td>50th Anniversary</td>\n",
       "      <td>Paperback</td>\n",
       "      <td>9.78006E+12</td>\n",
       "      <td>324 pages</td>\n",
       "      <td>4.27</td>\n",
       "      <td>3745197</td>\n",
       "      <td>79450</td>\n",
       "      <td>To Kill a Mockingbird</td>\n",
       "      <td>Classics|Fiction|Historical|Historical Fiction...</td>\n",
       "      <td>https://images.gr-assets.com/books/1361975680l...</td>\n",
       "      <td>Good (4-4.5)</td>\n",
       "      <td>6.0</td>\n",
       "      <td>1</td>\n",
       "      <td>4.0</td>\n",
       "      <td>324.0</td>\n",
       "    </tr>\n",
       "    <tr>\n",
       "      <th>3</th>\n",
       "      <td>Jane Austen|Anna Quindlen|Mrs. Oliphant|George...</td>\n",
       "      <td>«È cosa ormai risaputa che a uno scapolo in po...</td>\n",
       "      <td>Modern Library Classics, USA / CAN</td>\n",
       "      <td>Paperback</td>\n",
       "      <td>9.78068E+12</td>\n",
       "      <td>279 pages</td>\n",
       "      <td>4.25</td>\n",
       "      <td>2453620</td>\n",
       "      <td>54322</td>\n",
       "      <td>Pride and Prejudice</td>\n",
       "      <td>Classics|Fiction|Romance</td>\n",
       "      <td>https://images.gr-assets.com/books/1320399351l...</td>\n",
       "      <td>Good (4-4.5)</td>\n",
       "      <td>3.0</td>\n",
       "      <td>1</td>\n",
       "      <td>3.0</td>\n",
       "      <td>279.0</td>\n",
       "    </tr>\n",
       "    <tr>\n",
       "      <th>4</th>\n",
       "      <td>Stephenie Meyer</td>\n",
       "      <td>About three things I was absolutely positive.F...</td>\n",
       "      <td>NaN</td>\n",
       "      <td>Paperback</td>\n",
       "      <td>9.78032E+12</td>\n",
       "      <td>498 pages</td>\n",
       "      <td>3.58</td>\n",
       "      <td>4281268</td>\n",
       "      <td>97991</td>\n",
       "      <td>Twilight</td>\n",
       "      <td>Young Adult|Fantasy|Romance|Paranormal|Vampire...</td>\n",
       "      <td>https://images.gr-assets.com/books/1361039443l...</td>\n",
       "      <td>Decent (3.5-4)</td>\n",
       "      <td>8.0</td>\n",
       "      <td>1</td>\n",
       "      <td>1.0</td>\n",
       "      <td>498.0</td>\n",
       "    </tr>\n",
       "  </tbody>\n",
       "</table>\n",
       "</div>"
      ],
      "text/plain": [
       "                                        book_authors  \\\n",
       "0                                    Suzanne Collins   \n",
       "1                         J.K. Rowling|Mary GrandPré   \n",
       "2                                         Harper Lee   \n",
       "3  Jane Austen|Anna Quindlen|Mrs. Oliphant|George...   \n",
       "4                                    Stephenie Meyer   \n",
       "\n",
       "                                           book_desc  \\\n",
       "0  Winning will make you famous. Losing means cer...   \n",
       "1  There is a door at the end of a silent corrido...   \n",
       "2  The unforgettable novel of a childhood in a sl...   \n",
       "3  «È cosa ormai risaputa che a uno scapolo in po...   \n",
       "4  About three things I was absolutely positive.F...   \n",
       "\n",
       "                         book_edition book_format    book_isbn book_pages  \\\n",
       "0                                 NaN   Hardcover  9.78044E+12  374 pages   \n",
       "1                          US Edition   Paperback  9.78044E+12  870 pages   \n",
       "2                    50th Anniversary   Paperback  9.78006E+12  324 pages   \n",
       "3  Modern Library Classics, USA / CAN   Paperback  9.78068E+12  279 pages   \n",
       "4                                 NaN   Paperback  9.78032E+12  498 pages   \n",
       "\n",
       "   book_rating  book_rating_count  book_review_count  \\\n",
       "0         4.33            5519135             160706   \n",
       "1         4.48            2041594              33264   \n",
       "2         4.27            3745197              79450   \n",
       "3         4.25            2453620              54322   \n",
       "4         3.58            4281268              97991   \n",
       "\n",
       "                                  book_title  \\\n",
       "0                           The Hunger Games   \n",
       "1  Harry Potter and the Order of the Phoenix   \n",
       "2                      To Kill a Mockingbird   \n",
       "3                        Pride and Prejudice   \n",
       "4                                   Twilight   \n",
       "\n",
       "                                              genres  \\\n",
       "0  Young Adult|Fiction|Science Fiction|Dystopia|F...   \n",
       "1                        Fantasy|Young Adult|Fiction   \n",
       "2  Classics|Fiction|Historical|Historical Fiction...   \n",
       "3                           Classics|Fiction|Romance   \n",
       "4  Young Adult|Fantasy|Romance|Paranormal|Vampire...   \n",
       "\n",
       "                                           image_url      rate_group  \\\n",
       "0  https://images.gr-assets.com/books/1447303603l...    Good (4-4.5)   \n",
       "1  https://images.gr-assets.com/books/1255614970l...    Good (4-4.5)   \n",
       "2  https://images.gr-assets.com/books/1361975680l...    Good (4-4.5)   \n",
       "3  https://images.gr-assets.com/books/1320399351l...    Good (4-4.5)   \n",
       "4  https://images.gr-assets.com/books/1361039443l...  Decent (3.5-4)   \n",
       "\n",
       "   genres_spanned  books_format  title_word_len  book_pgs  \n",
       "0             6.0             2             3.0     374.0  \n",
       "1             3.0             1             8.0     870.0  \n",
       "2             6.0             1             4.0     324.0  \n",
       "3             3.0             1             3.0     279.0  \n",
       "4             8.0             1             1.0     498.0  "
      ]
     },
     "execution_count": 40,
     "metadata": {},
     "output_type": "execute_result"
    }
   ],
   "source": [
    "books.head()"
   ]
  },
  {
   "cell_type": "code",
   "execution_count": 7,
   "id": "seeing-express",
   "metadata": {},
   "outputs": [
    {
     "data": {
      "text/plain": [
       "book_edition    48848\n",
       "book_isbn       12866\n",
       "genres           3242\n",
       "book_pages       2522\n",
       "book_format      1656\n",
       "book_desc        1331\n",
       "image_url         683\n",
       "dtype: int64"
      ]
     },
     "execution_count": 7,
     "metadata": {},
     "output_type": "execute_result"
    }
   ],
   "source": [
    "#columns which contain null values and the number of null elements\n",
    "null_counts = books.isnull().sum()\n",
    "null_counts[null_counts > 0].sort_values(ascending=False) #null_counts in each column (sorted)"
   ]
  },
  {
   "cell_type": "code",
   "execution_count": 8,
   "id": "dried-conditioning",
   "metadata": {},
   "outputs": [
    {
     "data": {
      "text/plain": [
       "book_edition    0.899578\n",
       "book_isbn       0.236939\n",
       "genres          0.059704\n",
       "book_pages      0.046445\n",
       "book_format     0.030497\n",
       "book_desc       0.024512\n",
       "image_url       0.012578\n",
       "dtype: float64"
      ]
     },
     "execution_count": 8,
     "metadata": {},
     "output_type": "execute_result"
    }
   ],
   "source": [
    "# gives percentages of missing/null data for each column\n",
    "null_percentages = null_counts/books.shape[0]\n",
    "null_percentages[null_percentages > 0].sort_values(ascending=False)"
   ]
  },
  {
   "cell_type": "code",
   "execution_count": 9,
   "id": "operational-memory",
   "metadata": {},
   "outputs": [
    {
     "data": {
      "text/plain": [
       "array(['book_authors', 'book_desc', 'book_edition', 'book_format',\n",
       "       'book_isbn', 'book_pages', 'book_rating', 'book_rating_count',\n",
       "       'book_review_count', 'book_title', 'genres', 'image_url'],\n",
       "      dtype=object)"
      ]
     },
     "execution_count": 9,
     "metadata": {},
     "output_type": "execute_result"
    }
   ],
   "source": [
    "#columns\n",
    "np.array(books.columns)"
   ]
  },
  {
   "cell_type": "code",
   "execution_count": 10,
   "id": "hydraulic-pension",
   "metadata": {},
   "outputs": [
    {
     "data": {
      "text/html": [
       "<div>\n",
       "<style scoped>\n",
       "    .dataframe tbody tr th:only-of-type {\n",
       "        vertical-align: middle;\n",
       "    }\n",
       "\n",
       "    .dataframe tbody tr th {\n",
       "        vertical-align: top;\n",
       "    }\n",
       "\n",
       "    .dataframe thead th {\n",
       "        text-align: right;\n",
       "    }\n",
       "</style>\n",
       "<table border=\"1\" class=\"dataframe\">\n",
       "  <thead>\n",
       "    <tr style=\"text-align: right;\">\n",
       "      <th></th>\n",
       "      <th>book_authors</th>\n",
       "      <th>book_desc</th>\n",
       "      <th>book_edition</th>\n",
       "      <th>book_format</th>\n",
       "      <th>book_pages</th>\n",
       "      <th>book_rating</th>\n",
       "      <th>book_rating_count</th>\n",
       "      <th>book_review_count</th>\n",
       "      <th>book_title</th>\n",
       "      <th>genres</th>\n",
       "      <th>image_url</th>\n",
       "    </tr>\n",
       "  </thead>\n",
       "  <tbody>\n",
       "    <tr>\n",
       "      <th>0</th>\n",
       "      <td>Suzanne Collins</td>\n",
       "      <td>Winning will make you famous. Losing means cer...</td>\n",
       "      <td>NaN</td>\n",
       "      <td>Hardcover</td>\n",
       "      <td>374 pages</td>\n",
       "      <td>4.33</td>\n",
       "      <td>5519135</td>\n",
       "      <td>160706</td>\n",
       "      <td>The Hunger Games</td>\n",
       "      <td>Young Adult|Fiction|Science Fiction|Dystopia|F...</td>\n",
       "      <td>https://images.gr-assets.com/books/1447303603l...</td>\n",
       "    </tr>\n",
       "    <tr>\n",
       "      <th>1</th>\n",
       "      <td>J.K. Rowling|Mary GrandPré</td>\n",
       "      <td>There is a door at the end of a silent corrido...</td>\n",
       "      <td>US Edition</td>\n",
       "      <td>Paperback</td>\n",
       "      <td>870 pages</td>\n",
       "      <td>4.48</td>\n",
       "      <td>2041594</td>\n",
       "      <td>33264</td>\n",
       "      <td>Harry Potter and the Order of the Phoenix</td>\n",
       "      <td>Fantasy|Young Adult|Fiction</td>\n",
       "      <td>https://images.gr-assets.com/books/1255614970l...</td>\n",
       "    </tr>\n",
       "    <tr>\n",
       "      <th>2</th>\n",
       "      <td>Harper Lee</td>\n",
       "      <td>The unforgettable novel of a childhood in a sl...</td>\n",
       "      <td>50th Anniversary</td>\n",
       "      <td>Paperback</td>\n",
       "      <td>324 pages</td>\n",
       "      <td>4.27</td>\n",
       "      <td>3745197</td>\n",
       "      <td>79450</td>\n",
       "      <td>To Kill a Mockingbird</td>\n",
       "      <td>Classics|Fiction|Historical|Historical Fiction...</td>\n",
       "      <td>https://images.gr-assets.com/books/1361975680l...</td>\n",
       "    </tr>\n",
       "    <tr>\n",
       "      <th>3</th>\n",
       "      <td>Jane Austen|Anna Quindlen|Mrs. Oliphant|George...</td>\n",
       "      <td>«È cosa ormai risaputa che a uno scapolo in po...</td>\n",
       "      <td>Modern Library Classics, USA / CAN</td>\n",
       "      <td>Paperback</td>\n",
       "      <td>279 pages</td>\n",
       "      <td>4.25</td>\n",
       "      <td>2453620</td>\n",
       "      <td>54322</td>\n",
       "      <td>Pride and Prejudice</td>\n",
       "      <td>Classics|Fiction|Romance</td>\n",
       "      <td>https://images.gr-assets.com/books/1320399351l...</td>\n",
       "    </tr>\n",
       "    <tr>\n",
       "      <th>4</th>\n",
       "      <td>Stephenie Meyer</td>\n",
       "      <td>About three things I was absolutely positive.F...</td>\n",
       "      <td>NaN</td>\n",
       "      <td>Paperback</td>\n",
       "      <td>498 pages</td>\n",
       "      <td>3.58</td>\n",
       "      <td>4281268</td>\n",
       "      <td>97991</td>\n",
       "      <td>Twilight</td>\n",
       "      <td>Young Adult|Fantasy|Romance|Paranormal|Vampire...</td>\n",
       "      <td>https://images.gr-assets.com/books/1361039443l...</td>\n",
       "    </tr>\n",
       "    <tr>\n",
       "      <th>...</th>\n",
       "      <td>...</td>\n",
       "      <td>...</td>\n",
       "      <td>...</td>\n",
       "      <td>...</td>\n",
       "      <td>...</td>\n",
       "      <td>...</td>\n",
       "      <td>...</td>\n",
       "      <td>...</td>\n",
       "      <td>...</td>\n",
       "      <td>...</td>\n",
       "      <td>...</td>\n",
       "    </tr>\n",
       "    <tr>\n",
       "      <th>54296</th>\n",
       "      <td>Howard Megdal</td>\n",
       "      <td>In this fearless and half-crazy story, Howard ...</td>\n",
       "      <td>NaN</td>\n",
       "      <td>Hardcover</td>\n",
       "      <td>256 pages</td>\n",
       "      <td>3.37</td>\n",
       "      <td>27</td>\n",
       "      <td>9</td>\n",
       "      <td>Taking the Field: A Fan's Quest to Run the Tea...</td>\n",
       "      <td>Sports|Baseball|Sports and Games|Sports|Nonfic...</td>\n",
       "      <td>https://images.gr-assets.com/books/1312074392l...</td>\n",
       "    </tr>\n",
       "    <tr>\n",
       "      <th>54297</th>\n",
       "      <td>Howard Megdal</td>\n",
       "      <td>From the icons of the game to the players who ...</td>\n",
       "      <td>NaN</td>\n",
       "      <td>Hardcover</td>\n",
       "      <td>256 pages</td>\n",
       "      <td>3.97</td>\n",
       "      <td>34</td>\n",
       "      <td>5</td>\n",
       "      <td>The Baseball Talmud: Koufax, Greenberg, and th...</td>\n",
       "      <td>Nonfiction|Sports and Games|Sports</td>\n",
       "      <td>https://images.gr-assets.com/books/1348841629l...</td>\n",
       "    </tr>\n",
       "    <tr>\n",
       "      <th>54298</th>\n",
       "      <td>Howard Megdal</td>\n",
       "      <td>NaN</td>\n",
       "      <td>NaN</td>\n",
       "      <td>Kindle Edition</td>\n",
       "      <td>NaN</td>\n",
       "      <td>3.66</td>\n",
       "      <td>32</td>\n",
       "      <td>3</td>\n",
       "      <td>Wilpon's Folly - The Story of a Man, His Fortu...</td>\n",
       "      <td>Sports|Baseball|Abandoned</td>\n",
       "      <td>https://images.gr-assets.com/books/1394277097l...</td>\n",
       "    </tr>\n",
       "    <tr>\n",
       "      <th>54299</th>\n",
       "      <td>Mimi Baird|Eve Claxton</td>\n",
       "      <td>Soon to be a major motion picture, from Brad P...</td>\n",
       "      <td>NaN</td>\n",
       "      <td>Hardcover</td>\n",
       "      <td>272 pages</td>\n",
       "      <td>3.82</td>\n",
       "      <td>867</td>\n",
       "      <td>187</td>\n",
       "      <td>He Wanted the Moon: The Madness and Medical Ge...</td>\n",
       "      <td>Nonfiction|Autobiography|Memoir|Biography|Psyc...</td>\n",
       "      <td>https://images.gr-assets.com/books/1403192135l...</td>\n",
       "    </tr>\n",
       "    <tr>\n",
       "      <th>54300</th>\n",
       "      <td>Leah Price</td>\n",
       "      <td>The Anthology and the Rise of the Novel brings...</td>\n",
       "      <td>NaN</td>\n",
       "      <td>Paperback</td>\n",
       "      <td>236 pages</td>\n",
       "      <td>3.58</td>\n",
       "      <td>12</td>\n",
       "      <td>3</td>\n",
       "      <td>The Anthology and the Rise of the Novel: From ...</td>\n",
       "      <td>Criticism|Literary Criticism|Philosophy|Theory...</td>\n",
       "      <td>https://images.gr-assets.com/books/1349014225l...</td>\n",
       "    </tr>\n",
       "  </tbody>\n",
       "</table>\n",
       "<p>54301 rows × 11 columns</p>\n",
       "</div>"
      ],
      "text/plain": [
       "                                            book_authors  \\\n",
       "0                                        Suzanne Collins   \n",
       "1                             J.K. Rowling|Mary GrandPré   \n",
       "2                                             Harper Lee   \n",
       "3      Jane Austen|Anna Quindlen|Mrs. Oliphant|George...   \n",
       "4                                        Stephenie Meyer   \n",
       "...                                                  ...   \n",
       "54296                                      Howard Megdal   \n",
       "54297                                      Howard Megdal   \n",
       "54298                                      Howard Megdal   \n",
       "54299                             Mimi Baird|Eve Claxton   \n",
       "54300                                         Leah Price   \n",
       "\n",
       "                                               book_desc  \\\n",
       "0      Winning will make you famous. Losing means cer...   \n",
       "1      There is a door at the end of a silent corrido...   \n",
       "2      The unforgettable novel of a childhood in a sl...   \n",
       "3      «È cosa ormai risaputa che a uno scapolo in po...   \n",
       "4      About three things I was absolutely positive.F...   \n",
       "...                                                  ...   \n",
       "54296  In this fearless and half-crazy story, Howard ...   \n",
       "54297  From the icons of the game to the players who ...   \n",
       "54298                                                NaN   \n",
       "54299  Soon to be a major motion picture, from Brad P...   \n",
       "54300  The Anthology and the Rise of the Novel brings...   \n",
       "\n",
       "                             book_edition     book_format book_pages  \\\n",
       "0                                     NaN       Hardcover  374 pages   \n",
       "1                              US Edition       Paperback  870 pages   \n",
       "2                        50th Anniversary       Paperback  324 pages   \n",
       "3      Modern Library Classics, USA / CAN       Paperback  279 pages   \n",
       "4                                     NaN       Paperback  498 pages   \n",
       "...                                   ...             ...        ...   \n",
       "54296                                 NaN       Hardcover  256 pages   \n",
       "54297                                 NaN       Hardcover  256 pages   \n",
       "54298                                 NaN  Kindle Edition        NaN   \n",
       "54299                                 NaN       Hardcover  272 pages   \n",
       "54300                                 NaN       Paperback  236 pages   \n",
       "\n",
       "       book_rating  book_rating_count  book_review_count  \\\n",
       "0             4.33            5519135             160706   \n",
       "1             4.48            2041594              33264   \n",
       "2             4.27            3745197              79450   \n",
       "3             4.25            2453620              54322   \n",
       "4             3.58            4281268              97991   \n",
       "...            ...                ...                ...   \n",
       "54296         3.37                 27                  9   \n",
       "54297         3.97                 34                  5   \n",
       "54298         3.66                 32                  3   \n",
       "54299         3.82                867                187   \n",
       "54300         3.58                 12                  3   \n",
       "\n",
       "                                              book_title  \\\n",
       "0                                       The Hunger Games   \n",
       "1              Harry Potter and the Order of the Phoenix   \n",
       "2                                  To Kill a Mockingbird   \n",
       "3                                    Pride and Prejudice   \n",
       "4                                               Twilight   \n",
       "...                                                  ...   \n",
       "54296  Taking the Field: A Fan's Quest to Run the Tea...   \n",
       "54297  The Baseball Talmud: Koufax, Greenberg, and th...   \n",
       "54298  Wilpon's Folly - The Story of a Man, His Fortu...   \n",
       "54299  He Wanted the Moon: The Madness and Medical Ge...   \n",
       "54300  The Anthology and the Rise of the Novel: From ...   \n",
       "\n",
       "                                                  genres  \\\n",
       "0      Young Adult|Fiction|Science Fiction|Dystopia|F...   \n",
       "1                            Fantasy|Young Adult|Fiction   \n",
       "2      Classics|Fiction|Historical|Historical Fiction...   \n",
       "3                               Classics|Fiction|Romance   \n",
       "4      Young Adult|Fantasy|Romance|Paranormal|Vampire...   \n",
       "...                                                  ...   \n",
       "54296  Sports|Baseball|Sports and Games|Sports|Nonfic...   \n",
       "54297                 Nonfiction|Sports and Games|Sports   \n",
       "54298                          Sports|Baseball|Abandoned   \n",
       "54299  Nonfiction|Autobiography|Memoir|Biography|Psyc...   \n",
       "54300  Criticism|Literary Criticism|Philosophy|Theory...   \n",
       "\n",
       "                                               image_url  \n",
       "0      https://images.gr-assets.com/books/1447303603l...  \n",
       "1      https://images.gr-assets.com/books/1255614970l...  \n",
       "2      https://images.gr-assets.com/books/1361975680l...  \n",
       "3      https://images.gr-assets.com/books/1320399351l...  \n",
       "4      https://images.gr-assets.com/books/1361039443l...  \n",
       "...                                                  ...  \n",
       "54296  https://images.gr-assets.com/books/1312074392l...  \n",
       "54297  https://images.gr-assets.com/books/1348841629l...  \n",
       "54298  https://images.gr-assets.com/books/1394277097l...  \n",
       "54299  https://images.gr-assets.com/books/1403192135l...  \n",
       "54300  https://images.gr-assets.com/books/1349014225l...  \n",
       "\n",
       "[54301 rows x 11 columns]"
      ]
     },
     "execution_count": 10,
     "metadata": {},
     "output_type": "execute_result"
    }
   ],
   "source": [
    "# removing book_isbn column from dataframe 'books'\n",
    "books.drop(labels='book_isbn', axis=1, index=None, columns=None, level=None, inplace=False, errors='raise')"
   ]
  },
  {
   "cell_type": "code",
   "execution_count": 42,
   "id": "convenient-interest",
   "metadata": {},
   "outputs": [
    {
     "name": "stdout",
     "output_type": "stream",
     "text": [
      "Number of unique Book Titles:  48483\n",
      "Not unique:  5818\n"
     ]
    }
   ],
   "source": [
    "print(\"Number of unique Book Titles: \", len(np.unique(books['book_title']))) #unique elements in the column\n",
    "print(\"Not unique: \", books.shape[0]- len(np.unique(books['book_title']))) #not unique elements in this column\n",
    "#print(\"Book Titles\", np.unique(books['book_title'])) #unique elements in this column"
   ]
  },
  {
   "cell_type": "code",
   "execution_count": 43,
   "id": "comfortable-crisis",
   "metadata": {},
   "outputs": [
    {
     "name": "stdout",
     "output_type": "stream",
     "text": [
      "Number of unique Authors:  27159\n",
      "Not unique:  27142\n"
     ]
    }
   ],
   "source": [
    "print(\"Number of unique Authors: \", len(np.unique(books['book_authors']))) #unique elements in the column\n",
    "print(\"Not unique: \", books.shape[0]- len(np.unique(books['book_authors']))) #not unique elements in this column\n",
    "#print(\"Book Authors\", np.unique(books['book_authors'])) #unique elements in this column"
   ]
  },
  {
   "cell_type": "markdown",
   "id": "organizational-fiber",
   "metadata": {},
   "source": [
    "# Query 1: Getting Top 10 Genres"
   ]
  },
  {
   "cell_type": "code",
   "execution_count": 44,
   "id": "least-light",
   "metadata": {},
   "outputs": [
    {
     "name": "stdout",
     "output_type": "stream",
     "text": [
      "Ave number of Genres per Book:  5.582364965654408\n"
     ]
    }
   ],
   "source": [
    "# parse through genres to idenify unique categories\n",
    "genre_arr = np.array(books['genres'])\n",
    "#print(genre_arr)\n",
    "unique_genres = []\n",
    "ave_genres_per_book = 0\n",
    "total_num_books = 0\n",
    "\n",
    "for indx in genre_arr:\n",
    "    string = str(indx)\n",
    "    temp = string.split(\"|\")\n",
    "    ave_genres_per_book += len(temp)\n",
    "    total_num_books += 1\n",
    "    for i in temp:\n",
    "        if i not in unique_genres:\n",
    "            unique_genres.append(i)\n",
    "\n",
    "print(\"Ave number of Genres per Book: \", str(ave_genres_per_book/total_num_books))\n",
    "#print(\"Number of unique genres: \", str(len(unique_genres)))  "
   ]
  },
  {
   "cell_type": "code",
   "execution_count": 45,
   "id": "congressional-headquarters",
   "metadata": {},
   "outputs": [],
   "source": [
    "# make dictionary where the keys are the unique genres and the values are the count of books that satisfy that genre\n",
    "genres_dict = dict.fromkeys(unique_genres, 0)\n",
    "# find book count that falls under every unique genres\n",
    "for indx in genre_arr:\n",
    "    string = str(indx)\n",
    "    temp = tuple(string.split(\"|\"))\n",
    "    for gen in temp:\n",
    "        genres_dict[gen] += 1\n",
    "# sort genres dict\n",
    "sorted_dict = {}\n",
    "sorted_keys = sorted(genres_dict, key=genres_dict.get)\n",
    "for k in sorted_keys:\n",
    "    sorted_dict[k] = genres_dict[k]"
   ]
  },
  {
   "cell_type": "code",
   "execution_count": 46,
   "id": "outer-success",
   "metadata": {},
   "outputs": [
    {
     "name": "stdout",
     "output_type": "stream",
     "text": [
      "{'Classics': 6379, 'Historical Fiction': 6448, 'Science Fiction': 6821, 'Nonfiction': 7727, 'Mystery': 7960, 'Paranormal': 8018, 'Historical': 10868, 'Young Adult': 11320, 'Romance': 18732, 'Fantasy': 23722}\n"
     ]
    }
   ],
   "source": [
    "# get top 10 genres only for plotting bar graph\n",
    "top_ten_genres = list(sorted_dict)[-11:-1]\n",
    "final_genres_dict = {}\n",
    "for i in top_ten_genres:\n",
    "    final_genres_dict[i] =(sorted_dict[i])\n",
    "keys = final_genres_dict.keys()\n",
    "values = final_genres_dict.values()\n",
    "values_list = list(values)  \n",
    "print(final_genres_dict)"
   ]
  },
  {
   "cell_type": "code",
   "execution_count": 47,
   "id": "arctic-brazilian",
   "metadata": {},
   "outputs": [
    {
     "data": {
      "image/png": "[encoded data removed]",
      "text/plain": [
       "<Figure size 432x288 with 1 Axes>"
      ]
     },
     "metadata": {
      "needs_background": "light"
     },
     "output_type": "display_data"
    }
   ],
   "source": [
    "x1 = list(keys)\n",
    "y1 = list(values)\n",
    "# make horizontal bar plot to be more consistent style with other bar plots\n",
    "barlist = plt.barh(x1, y1)\n",
    "# use custom color palette to match with genres vs ratings vs frequency bubble plot\n",
    "colors = [\"Crimson\", \"LightSalmon\", \"#FFFF00\", \"#663399\", \"Orange\", \"#90EE90\", \"#808000\", \"#1E90FF\", \"#0000FF\", \"#DAA520\", \"#228B22\", \"red\", \"#3CB371\"]\n",
    "barlist[0].set_color(colors[1])\n",
    "barlist[1].set_color(colors[2])\n",
    "barlist[2].set_color(colors[3])\n",
    "barlist[3].set_color(colors[4])\n",
    "barlist[4].set_color(colors[5])\n",
    "barlist[5].set_color(colors[6])\n",
    "barlist[6].set_color(colors[7])\n",
    "barlist[7].set_color(colors[8])\n",
    "barlist[8].set_color(colors[9])\n",
    "barlist[9].set_color(colors[10])\n",
    "plt.title('Top 10 Book Genres')\n",
    "plt.xlabel('Number of Books')\n",
    "plt.savefig('top_10_genres.png', dpi=300)\n",
    "plt.show()"
   ]
  },
  {
   "cell_type": "code",
   "execution_count": 49,
   "id": "interpreted-there",
   "metadata": {},
   "outputs": [],
   "source": [
    "#get_top_10_genres(books)"
   ]
  },
  {
   "cell_type": "markdown",
   "id": "civilian-reproduction",
   "metadata": {},
   "source": [
    "# Query 2: Books Ratings Distrbution"
   ]
  },
  {
   "cell_type": "code",
   "execution_count": 18,
   "id": "nominated-landscape",
   "metadata": {},
   "outputs": [
    {
     "data": {
      "image/png": "[encoded data removed]",
      "text/plain": [
       "<Figure size 360x360 with 1 Axes>"
      ]
     },
     "metadata": {
      "needs_background": "light"
     },
     "output_type": "display_data"
    }
   ],
   "source": [
    "# book ratings distribution\n",
    "sns.displot(books, x='book_rating',binwidth = 0.05, color = 'salmon')\n",
    "plt.axvline(x= np.mean(books['book_rating']), color=\"blue\", label=\"mean\")\n",
    "plt.title('Distribution of All Books\\' Ratings' )\n",
    "plt.legend(loc=\"upper left\")\n",
    "plt.xlim(3,5)\n",
    "plt.show()"
   ]
  },
  {
   "cell_type": "markdown",
   "id": "ranking-wales",
   "metadata": {},
   "source": [
    "# Query 3: Genres Spanned Distrbution and vs Ratings"
   ]
  },
  {
   "cell_type": "code",
   "execution_count": 50,
   "id": "ranking-fabric",
   "metadata": {},
   "outputs": [
    {
     "data": {
      "text/plain": [
       "(1.0, 18.0)"
      ]
     },
     "execution_count": 50,
     "metadata": {},
     "output_type": "execute_result"
    },
    {
     "data": {
      "image/png": "[encoded data removed]",
      "text/plain": [
       "<Figure size 432x288 with 1 Axes>"
      ]
     },
     "metadata": {
      "needs_background": "light"
     },
     "output_type": "display_data"
    }
   ],
   "source": [
    "# BOOK RATINGS VS GENRES SPANNED\n",
    "# QUERY 2: Books ratings vs # genres spanned \n",
    "# (do people like books that are about a variety of themes/topics or just a few?)\n",
    "# dict key some span of rating (ie. 4 - 4.25, 4.25 - 4.5, etc.)\n",
    "# value is # of genres they span\n",
    "genre_span_list = np.zeros(len(books['genres']))\n",
    "for x in books['genres'].index:\n",
    "        num_genres = str(books['genres'][x]).count('|') + 1\n",
    "        genre_span_list[x] = num_genres\n",
    "\n",
    "#print(len(genre_span_list))\n",
    "#print(genre_span_list)\n",
    "\n",
    "genre_span_dict = {}\n",
    "for x in range(len(genre_span_list)):\n",
    "    if (genre_span_list[x] not in genre_span_dict):\n",
    "        genre_span_dict[genre_span_list[x]] = 1\n",
    "    else:\n",
    "        genre_span_dict[genre_span_list[x]] += 1\n",
    "\n",
    "ordered_genre_span_dict = collections.OrderedDict(sorted(genre_span_dict.items()))\n",
    "x = ordered_genre_span_dict.keys()\n",
    "y = ordered_genre_span_dict.values()\n",
    "plt.figure(figsize=(6, 4))\n",
    "plt.bar(x, y, color='salmon', edgecolor=\"black\", width=1)\n",
    "plt.title('Distribution of Number of Genres Spanned')\n",
    "plt.xlabel('Number of Genres')\n",
    "plt.ylabel('Number of Books')\n",
    "plt.axvline(x= ave_genres_per_book/total_num_books, color=\"blue\", label=\"mean\")\n",
    "plt.legend(loc=\"upper left\")\n",
    "plt.xticks(range(18))\n",
    "plt.xlim(1,18)"
   ]
  },
  {
   "cell_type": "code",
   "execution_count": 21,
   "id": "otherwise-establishment",
   "metadata": {},
   "outputs": [
    {
     "data": {
      "text/html": [
       "<div>\n",
       "<style scoped>\n",
       "    .dataframe tbody tr th:only-of-type {\n",
       "        vertical-align: middle;\n",
       "    }\n",
       "\n",
       "    .dataframe tbody tr th {\n",
       "        vertical-align: top;\n",
       "    }\n",
       "\n",
       "    .dataframe thead th {\n",
       "        text-align: right;\n",
       "    }\n",
       "</style>\n",
       "<table border=\"1\" class=\"dataframe\">\n",
       "  <thead>\n",
       "    <tr style=\"text-align: right;\">\n",
       "      <th></th>\n",
       "      <th>book_authors</th>\n",
       "      <th>book_desc</th>\n",
       "      <th>book_edition</th>\n",
       "      <th>book_format</th>\n",
       "      <th>book_isbn</th>\n",
       "      <th>book_pages</th>\n",
       "      <th>book_rating</th>\n",
       "      <th>book_rating_count</th>\n",
       "      <th>book_review_count</th>\n",
       "      <th>book_title</th>\n",
       "      <th>genres</th>\n",
       "      <th>image_url</th>\n",
       "      <th>rate_group</th>\n",
       "    </tr>\n",
       "  </thead>\n",
       "  <tbody>\n",
       "    <tr>\n",
       "      <th>0</th>\n",
       "      <td>Suzanne Collins</td>\n",
       "      <td>Winning will make you famous. Losing means cer...</td>\n",
       "      <td>NaN</td>\n",
       "      <td>Hardcover</td>\n",
       "      <td>9.78044E+12</td>\n",
       "      <td>374 pages</td>\n",
       "      <td>4.33</td>\n",
       "      <td>5519135</td>\n",
       "      <td>160706</td>\n",
       "      <td>The Hunger Games</td>\n",
       "      <td>Young Adult|Fiction|Science Fiction|Dystopia|F...</td>\n",
       "      <td>https://images.gr-assets.com/books/1447303603l...</td>\n",
       "      <td>Good (4-4.5)</td>\n",
       "    </tr>\n",
       "    <tr>\n",
       "      <th>1</th>\n",
       "      <td>J.K. Rowling|Mary GrandPré</td>\n",
       "      <td>There is a door at the end of a silent corrido...</td>\n",
       "      <td>US Edition</td>\n",
       "      <td>Paperback</td>\n",
       "      <td>9.78044E+12</td>\n",
       "      <td>870 pages</td>\n",
       "      <td>4.48</td>\n",
       "      <td>2041594</td>\n",
       "      <td>33264</td>\n",
       "      <td>Harry Potter and the Order of the Phoenix</td>\n",
       "      <td>Fantasy|Young Adult|Fiction</td>\n",
       "      <td>https://images.gr-assets.com/books/1255614970l...</td>\n",
       "      <td>Good (4-4.5)</td>\n",
       "    </tr>\n",
       "    <tr>\n",
       "      <th>2</th>\n",
       "      <td>Harper Lee</td>\n",
       "      <td>The unforgettable novel of a childhood in a sl...</td>\n",
       "      <td>50th Anniversary</td>\n",
       "      <td>Paperback</td>\n",
       "      <td>9.78006E+12</td>\n",
       "      <td>324 pages</td>\n",
       "      <td>4.27</td>\n",
       "      <td>3745197</td>\n",
       "      <td>79450</td>\n",
       "      <td>To Kill a Mockingbird</td>\n",
       "      <td>Classics|Fiction|Historical|Historical Fiction...</td>\n",
       "      <td>https://images.gr-assets.com/books/1361975680l...</td>\n",
       "      <td>Good (4-4.5)</td>\n",
       "    </tr>\n",
       "    <tr>\n",
       "      <th>3</th>\n",
       "      <td>Jane Austen|Anna Quindlen|Mrs. Oliphant|George...</td>\n",
       "      <td>«È cosa ormai risaputa che a uno scapolo in po...</td>\n",
       "      <td>Modern Library Classics, USA / CAN</td>\n",
       "      <td>Paperback</td>\n",
       "      <td>9.78068E+12</td>\n",
       "      <td>279 pages</td>\n",
       "      <td>4.25</td>\n",
       "      <td>2453620</td>\n",
       "      <td>54322</td>\n",
       "      <td>Pride and Prejudice</td>\n",
       "      <td>Classics|Fiction|Romance</td>\n",
       "      <td>https://images.gr-assets.com/books/1320399351l...</td>\n",
       "      <td>Good (4-4.5)</td>\n",
       "    </tr>\n",
       "    <tr>\n",
       "      <th>4</th>\n",
       "      <td>Stephenie Meyer</td>\n",
       "      <td>About three things I was absolutely positive.F...</td>\n",
       "      <td>NaN</td>\n",
       "      <td>Paperback</td>\n",
       "      <td>9.78032E+12</td>\n",
       "      <td>498 pages</td>\n",
       "      <td>3.58</td>\n",
       "      <td>4281268</td>\n",
       "      <td>97991</td>\n",
       "      <td>Twilight</td>\n",
       "      <td>Young Adult|Fantasy|Romance|Paranormal|Vampire...</td>\n",
       "      <td>https://images.gr-assets.com/books/1361039443l...</td>\n",
       "      <td>Decent (3.5-4)</td>\n",
       "    </tr>\n",
       "  </tbody>\n",
       "</table>\n",
       "</div>"
      ],
      "text/plain": [
       "                                        book_authors  \\\n",
       "0                                    Suzanne Collins   \n",
       "1                         J.K. Rowling|Mary GrandPré   \n",
       "2                                         Harper Lee   \n",
       "3  Jane Austen|Anna Quindlen|Mrs. Oliphant|George...   \n",
       "4                                    Stephenie Meyer   \n",
       "\n",
       "                                           book_desc  \\\n",
       "0  Winning will make you famous. Losing means cer...   \n",
       "1  There is a door at the end of a silent corrido...   \n",
       "2  The unforgettable novel of a childhood in a sl...   \n",
       "3  «È cosa ormai risaputa che a uno scapolo in po...   \n",
       "4  About three things I was absolutely positive.F...   \n",
       "\n",
       "                         book_edition book_format    book_isbn book_pages  \\\n",
       "0                                 NaN   Hardcover  9.78044E+12  374 pages   \n",
       "1                          US Edition   Paperback  9.78044E+12  870 pages   \n",
       "2                    50th Anniversary   Paperback  9.78006E+12  324 pages   \n",
       "3  Modern Library Classics, USA / CAN   Paperback  9.78068E+12  279 pages   \n",
       "4                                 NaN   Paperback  9.78032E+12  498 pages   \n",
       "\n",
       "   book_rating  book_rating_count  book_review_count  \\\n",
       "0         4.33            5519135             160706   \n",
       "1         4.48            2041594              33264   \n",
       "2         4.27            3745197              79450   \n",
       "3         4.25            2453620              54322   \n",
       "4         3.58            4281268              97991   \n",
       "\n",
       "                                  book_title  \\\n",
       "0                           The Hunger Games   \n",
       "1  Harry Potter and the Order of the Phoenix   \n",
       "2                      To Kill a Mockingbird   \n",
       "3                        Pride and Prejudice   \n",
       "4                                   Twilight   \n",
       "\n",
       "                                              genres  \\\n",
       "0  Young Adult|Fiction|Science Fiction|Dystopia|F...   \n",
       "1                        Fantasy|Young Adult|Fiction   \n",
       "2  Classics|Fiction|Historical|Historical Fiction...   \n",
       "3                           Classics|Fiction|Romance   \n",
       "4  Young Adult|Fantasy|Romance|Paranormal|Vampire...   \n",
       "\n",
       "                                           image_url      rate_group  \n",
       "0  https://images.gr-assets.com/books/1447303603l...    Good (4-4.5)  \n",
       "1  https://images.gr-assets.com/books/1255614970l...    Good (4-4.5)  \n",
       "2  https://images.gr-assets.com/books/1361975680l...    Good (4-4.5)  \n",
       "3  https://images.gr-assets.com/books/1320399351l...    Good (4-4.5)  \n",
       "4  https://images.gr-assets.com/books/1361039443l...  Decent (3.5-4)  "
      ]
     },
     "execution_count": 21,
     "metadata": {},
     "output_type": "execute_result"
    }
   ],
   "source": [
    "# Add column to books dataframe for rate group (Poor, Bad, Decent, Good, Extremely Good) for plotting queries against\n",
    "books['rate_group'] = pd.cut(books['book_rating'],bins=[0,3,3.5,4,4.5,5], labels=['Poor (0-3)','Bad (3-3.5)','Decent (3.5-4)', 'Good (4-4.5)','Extremely Good (4.5-5)'])\n",
    "books.head()"
   ]
  },
  {
   "cell_type": "code",
   "execution_count": 22,
   "id": "southwest-procedure",
   "metadata": {},
   "outputs": [],
   "source": [
    "genre_span_arr = np.array(genre_span_list)\n",
    "books = books.sort_index(axis=0,ascending=True)\n",
    "books['genres_spanned'] = genre_span_arr\n",
    "#books.head()"
   ]
  },
  {
   "cell_type": "code",
   "execution_count": 23,
   "id": "driving-oakland",
   "metadata": {},
   "outputs": [
    {
     "data": {
      "image/png": "[encoded data removed]",
      "text/plain": [
       "<Figure size 432x288 with 1 Axes>"
      ]
     },
     "metadata": {
      "needs_background": "light"
     },
     "output_type": "display_data"
    }
   ],
   "source": [
    "d = books.groupby(['genres_spanned', 'rate_group'])['genres'].size().unstack()\n",
    "d.plot(kind='bar', stacked=True, title = 'Ratings of Books vs Number of Genres Spanned', colormap=my_cmap)\n",
    "plt.xlabel('Number of Genres Spanned')\n",
    "plt.ylabel('Number of Books')\n",
    "plt.tight_layout()\n",
    "plt.savefig('genre_span_rating.png', dpi=300)"
   ]
  },
  {
   "cell_type": "markdown",
   "id": "divided-belgium",
   "metadata": {},
   "source": [
    "# Query 4: Book Format vs Rating"
   ]
  },
  {
   "cell_type": "code",
   "execution_count": 24,
   "id": "cellular-monster",
   "metadata": {},
   "outputs": [
    {
     "data": {
      "image/png": "[encoded data removed]",
      "text/plain": [
       "<Figure size 432x288 with 1 Axes>"
      ]
     },
     "metadata": {
      "needs_background": "light"
     },
     "output_type": "display_data"
    },
    {
     "data": {
      "image/png": "[encoded data removed]",
      "text/plain": [
       "<Figure size 432x288 with 1 Axes>"
      ]
     },
     "metadata": {
      "needs_background": "light"
     },
     "output_type": "display_data"
    }
   ],
   "source": [
    "# QUERY: BOOK FORMAT VS RATINGS\n",
    "book_form = np.array(books['book_format'])\n",
    "book_form_dict = {}\n",
    "for x in book_form:\n",
    "    if x not in book_form_dict:\n",
    "        book_form_dict[x] = 1\n",
    "    elif x in book_form_dict:\n",
    "        book_form_dict[x] += 1\n",
    "#print(book_form_dict)\n",
    "# get top 10 book formats\n",
    "sorted_form_dict = {}\n",
    "sorted_keys2 = sorted(book_form_dict, key=book_form_dict.get)\n",
    "for k in sorted_keys2:\n",
    "    sorted_form_dict[k] = book_form_dict[k]\n",
    "#print(sorted_form_dict)\n",
    "top_ten_formats = list(sorted_form_dict)[-1]\n",
    "final_form_dict = {}\n",
    "\n",
    "final_form_dict = {'ebook': 2534, 'Mass Market\\nPaperback': 2668, 'Kindle Edition': 5436, 'Hardcover': 12163, 'Paperback': 28725}\n",
    "keys2 = final_form_dict.keys()\n",
    "values2 = final_form_dict.values()\n",
    "\n",
    "x = list(keys2)\n",
    "y = list(values2)\n",
    "barlist2= plt.barh(x, y,color='#f4811d')\n",
    "color_arr = ['#fff4b6', '#feda7e', '#feb23f', '#f4811d', '#d55607', '#a03704']\n",
    "barlist2[0].set_color(color_arr[1])\n",
    "barlist2[1].set_color(color_arr[2])\n",
    "barlist2[2].set_color(color_arr[3])\n",
    "barlist2[3].set_color(color_arr[4])\n",
    "barlist2[4].set_color(color_arr[5])\n",
    "\n",
    "plt.title('Top 5 Book Formats')\n",
    "plt.xlabel('Number of Books')\n",
    "for i in range(my_cmap.N):\n",
    "    rgba = my_cmap(i)\n",
    "\n",
    "# BOOK RATINGS VS BOOK FORMAT\n",
    "book_format_list = np.zeros(len(books['book_format'])) # keys are \n",
    "paperback_count = 0\n",
    "hardcover_count = 0\n",
    "kindle_count = 0\n",
    "mmp_count = 0\n",
    "ebook_count = 0\n",
    "other_count = 0\n",
    "book_form_list = []\n",
    "\n",
    "#books = books.sort_index(axis=0,ascending=True)\n",
    "#books['genres_spanned'] = genre_span_arr\n",
    "for x in books['book_format'].index:\n",
    "    if books['book_format'][x]== 'Paperback':\n",
    "        paperback_count+=1\n",
    "        book_form_list.append(1)\n",
    "    elif books['book_format'][x]== 'Hardcover':\n",
    "        hardcover_count+=1\n",
    "        book_form_list.append(2)\n",
    "    elif books['book_format'][x]== 'Kindle Edition':\n",
    "        kindle_count+=1\n",
    "        book_form_list.append(3)\n",
    "    elif books['book_format'][x]== 'Mass Market Paperback':\n",
    "        mmp_count+=1\n",
    "        book_form_list.append(4)\n",
    "    elif books['book_format'][x]== 'ebook':\n",
    "        ebook_count+=1\n",
    "        book_form_list.append(5)\n",
    "    else:\n",
    "        book_form_list.append(0)\n",
    "        other_count+=1\n",
    "\n",
    "book_form_arr = np.array(book_form_list)\n",
    "books['books_format'] = book_form_arr\n",
    "#books.head()\n",
    "sss = books.groupby(['books_format', 'rate_group'])['genres'].size().unstack()\n",
    "ax = sss.plot(kind='bar', stacked=True, title = 'Ratings of Books vs Top 5 Book Formats',colormap=my_cmap)\n",
    "plt.legend(loc=\"upper right\")\n",
    "plt.tight_layout()\n",
    "plt.xlim(0.5, 5.5)\n",
    "ax.set_xticks([1, 2, 3, 4, 5])\n",
    "ax.set_xticklabels(['Paperback', 'Hardcover', 'Kindle Edition', 'Mass Market\\n Paperback', 'ebook'], rotation=0)\n",
    "ax.set_xlabel('Book Formats\\n')\n",
    "plt.savefig('book_format_vs_rating3.png', dpi=300)\n"
   ]
  },
  {
   "cell_type": "markdown",
   "id": "labeled-canal",
   "metadata": {},
   "source": [
    "# Query 5: Title Word Length vs Rating"
   ]
  },
  {
   "cell_type": "code",
   "execution_count": 25,
   "id": "featured-resident",
   "metadata": {},
   "outputs": [],
   "source": [
    "# BOOK RATINGS VS NUMBER OF LETTERS IN TITLE\n",
    "title_len_list = np.zeros(len(books['book_title']))\n",
    "for x in books['book_title'].index:\n",
    "        num_title_words = int(len(str(books['book_title'][x]).split()))\n",
    "        title_len_list[x] = num_title_words\n",
    "#print(title_len_list)\n",
    "title_len_arr = np.array(title_len_list)\n",
    "books['title_word_len'] = title_len_arr\n",
    "#books.head()"
   ]
  },
  {
   "cell_type": "code",
   "execution_count": 26,
   "id": "subsequent-terrorism",
   "metadata": {},
   "outputs": [
    {
     "data": {
      "image/png": "[encoded data removed]",
      "text/plain": [
       "<Figure size 432x288 with 1 Axes>"
      ]
     },
     "metadata": {
      "needs_background": "light"
     },
     "output_type": "display_data"
    }
   ],
   "source": [
    "ss = books.groupby(['title_word_len', 'rate_group'])['genres'].size().unstack()\n",
    "ss.plot(kind='bar', stacked=True, title = 'Ratings of Books vs Number of Words in Title',colormap=my_cmap)\n",
    "plt.axvline(x= np.mean(books['title_word_len']), color=\"navy\", label=\"mean\")\n",
    "plt.legend(loc=\"upper right\")\n",
    "plt.xlim(-0.5, 14.5)\n",
    "plt.xlabel('Number of Words in Book Title')\n",
    "plt.savefig('book_word_len_vs_rating.png', dpi=300)"
   ]
  },
  {
   "cell_type": "code",
   "execution_count": 38,
   "id": "reliable-puppy",
   "metadata": {},
   "outputs": [],
   "source": [
    "# add book pages column count in dataframe, for correlation matrix\n",
    "book_pages = books['book_pages'].str.rstrip('pages ')\n",
    "book_pages = book_pages.dropna()\n",
    "book_pages = book_pages.astype(int, copy=True, errors='raise')\n",
    "#book_pages = book_pages.sort_values(False)\n",
    "#print(book_pages)\n",
    "books['book_pgs'] = book_pages"
   ]
  },
  {
   "cell_type": "markdown",
   "id": "hired-opera",
   "metadata": {},
   "source": [
    "# Correlation Matrix"
   ]
  },
  {
   "cell_type": "code",
   "execution_count": 37,
   "id": "romantic-venue",
   "metadata": {},
   "outputs": [
    {
     "data": {
      "image/png": "[encoded data removed]",
      "text/plain": [
       "<Figure size 432x288 with 2 Axes>"
      ]
     },
     "metadata": {
      "needs_background": "light"
     },
     "output_type": "display_data"
    }
   ],
   "source": [
    "# Correlation Matrix\n",
    "df_core = pd.concat([books['book_rating'], books['book_pgs'], books['book_rating_count'],books['book_review_count'],books['genres_spanned'], books['title_word_len'], books['books_format']], axis=1, keys=['book_rating', 'book_pages', 'rate_count', 'rev_count', 'genres_spanned', 'title_word_len','books_format'])\n",
    "#print(df_core)\n",
    "#df_core.corr()\n",
    "corrMatrix2 = df_core.corr()\n",
    "#print (corrMatrix2)\n",
    "sns.heatmap(corrMatrix2, annot=True)\n",
    "plt.tight_layout()\n",
    "plt.savefig('correlation_matrix.png', dpi=300)\n",
    "plt.show()"
   ]
  },
  {
   "cell_type": "code",
   "execution_count": null,
   "id": "advanced-official",
   "metadata": {},
   "outputs": [],
   "source": []
  }
 ],
 "metadata": {
  "kernelspec": {
   "display_name": "Python 3",
   "language": "python",
   "name": "python3"
  },
  "language_info": {
   "codemirror_mode": {
    "name": "ipython",
    "version": 3
   },
   "file_extension": ".py",
   "mimetype": "text/x-python",
   "name": "python",
   "nbconvert_exporter": "python",
   "pygments_lexer": "ipython3",
   "version": "3.8.5"
  }
 },
 "nbformat": 4,
 "nbformat_minor": 5
}
