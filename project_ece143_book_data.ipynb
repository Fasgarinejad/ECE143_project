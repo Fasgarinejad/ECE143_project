{
 "cells": [
  {
   "cell_type": "markdown",
   "metadata": {},
   "source": [
    "<span style=\"color:darkorange; font-weight:bold; font-size:17px;\">The dataset which contains genres (The one sent by Anirudh) </span><span style=\"color:lightsalmon; font-weight:bold; font-size:13px;\">book_data.csv<br></span>\n",
    "<span style=\"color:darkred; font-weight:bold; font-size:13px;\">Add the source and description here later<br></span>"
   ]
  },
  {
   "cell_type": "markdown",
   "metadata": {},
   "source": [
    "<div style=\"background-color:cornsilk;\"><span style=\"color:#182B49;\">Importing Libraries</span></div>"
   ]
  },
  {
   "cell_type": "code",
   "execution_count": 1,
   "metadata": {},
   "outputs": [],
   "source": [
    "import pandas as pd #for importing csv file\n",
    "import numpy as np #for sum mathematical stuff\n",
    "import matplotlib.pyplot as plt #for plotting"
   ]
  },
  {
   "cell_type": "markdown",
   "metadata": {},
   "source": [
    "<div style=\"background-color:cornsilk;\"><span style=\"color:#182B49;\">Loading Datasets</span></div>"
   ]
  },
  {
   "cell_type": "code",
   "execution_count": 2,
   "metadata": {},
   "outputs": [],
   "source": [
    "books = pd.read_csv('book_data.csv',error_bad_lines = False) \n",
    "#error_bad_lines : boolean, default True Lines with too many fields (e.g. a csv line with too many commas) will by default cause an exception to be raised, and no DataFrame will be returned. If False, then these “bad lines” will dropped from the DataFrame that is returned. (Only valid with C parser)"
   ]
  },
  {
   "cell_type": "markdown",
   "metadata": {},
   "source": [
    "<div style=\"background-color:cornsilk;\"><span style=\"color:#182B49;\">Exploring the dataset content</span></div>"
   ]
  },
  {
   "cell_type": "code",
   "execution_count": 3,
   "metadata": {},
   "outputs": [
    {
     "name": "stdout",
     "output_type": "stream",
     "text": [
      "There are 54301 rows and 12 columns in the dataset.\n"
     ]
    }
   ],
   "source": [
    "print(\"There are {} rows and {} columns in the dataset.\".format(books.shape[0], books.shape[1]))"
   ]
  },
  {
   "cell_type": "code",
   "execution_count": 4,
   "metadata": {},
   "outputs": [
    {
     "data": {
      "text/plain": [
       "(54301, 12)"
      ]
     },
     "execution_count": 4,
     "metadata": {},
     "output_type": "execute_result"
    }
   ],
   "source": [
    "books.shape #table dimensions"
   ]
  },
  {
   "cell_type": "markdown",
   "metadata": {},
   "source": [
    "<div style=\"background-color:cornsilk;\"><span style=\"color:#182B49;\">Dataset columns</span></div>"
   ]
  },
  {
   "cell_type": "code",
   "execution_count": 5,
   "metadata": {},
   "outputs": [
    {
     "data": {
      "text/plain": [
       "array(['book_authors', 'book_desc', 'book_edition', 'book_format',\n",
       "       'book_isbn', 'book_pages', 'book_rating', 'book_rating_count',\n",
       "       'book_review_count', 'book_title', 'genres', 'image_url'],\n",
       "      dtype=object)"
      ]
     },
     "execution_count": 5,
     "metadata": {},
     "output_type": "execute_result"
    }
   ],
   "source": [
    "#columns\n",
    "np.array(books.columns)"
   ]
  },
  {
   "cell_type": "markdown",
   "metadata": {},
   "source": [
    "<span style=\"color:#747678; font-size:14px;\">Columns are <strong>'book_authors', 'book_desc', 'book_edition', 'book_format',\n",
    "       'book_isbn', 'book_pages', 'book_rating', 'book_rating_count',\n",
    "    'book_review_count', 'book_title', 'genres', 'image_url'</strong></span>"
   ]
  },
  {
   "cell_type": "markdown",
   "metadata": {},
   "source": [
    "<span style=\"color:#747678; font-size:14px;\">Depicting the first 5 rows of this dataset with <strong>head</strong> method.<br></span>"
   ]
  },
  {
   "cell_type": "code",
   "execution_count": 6,
   "metadata": {},
   "outputs": [
    {
     "data": {
      "text/html": [
       "<div>\n",
       "<style scoped>\n",
       "    .dataframe tbody tr th:only-of-type {\n",
       "        vertical-align: middle;\n",
       "    }\n",
       "\n",
       "    .dataframe tbody tr th {\n",
       "        vertical-align: top;\n",
       "    }\n",
       "\n",
       "    .dataframe thead th {\n",
       "        text-align: right;\n",
       "    }\n",
       "</style>\n",
       "<table border=\"1\" class=\"dataframe\">\n",
       "  <thead>\n",
       "    <tr style=\"text-align: right;\">\n",
       "      <th></th>\n",
       "      <th>book_authors</th>\n",
       "      <th>book_desc</th>\n",
       "      <th>book_edition</th>\n",
       "      <th>book_format</th>\n",
       "      <th>book_isbn</th>\n",
       "      <th>book_pages</th>\n",
       "      <th>book_rating</th>\n",
       "      <th>book_rating_count</th>\n",
       "      <th>book_review_count</th>\n",
       "      <th>book_title</th>\n",
       "      <th>genres</th>\n",
       "      <th>image_url</th>\n",
       "    </tr>\n",
       "  </thead>\n",
       "  <tbody>\n",
       "    <tr>\n",
       "      <th>0</th>\n",
       "      <td>Suzanne Collins</td>\n",
       "      <td>Winning will make you famous. Losing means cer...</td>\n",
       "      <td>NaN</td>\n",
       "      <td>Hardcover</td>\n",
       "      <td>9.78044E+12</td>\n",
       "      <td>374 pages</td>\n",
       "      <td>4.33</td>\n",
       "      <td>5519135</td>\n",
       "      <td>160706</td>\n",
       "      <td>The Hunger Games</td>\n",
       "      <td>Young Adult|Fiction|Science Fiction|Dystopia|F...</td>\n",
       "      <td>https://images.gr-assets.com/books/1447303603l...</td>\n",
       "    </tr>\n",
       "    <tr>\n",
       "      <th>1</th>\n",
       "      <td>J.K. Rowling|Mary GrandPré</td>\n",
       "      <td>There is a door at the end of a silent corrido...</td>\n",
       "      <td>US Edition</td>\n",
       "      <td>Paperback</td>\n",
       "      <td>9.78044E+12</td>\n",
       "      <td>870 pages</td>\n",
       "      <td>4.48</td>\n",
       "      <td>2041594</td>\n",
       "      <td>33264</td>\n",
       "      <td>Harry Potter and the Order of the Phoenix</td>\n",
       "      <td>Fantasy|Young Adult|Fiction</td>\n",
       "      <td>https://images.gr-assets.com/books/1255614970l...</td>\n",
       "    </tr>\n",
       "    <tr>\n",
       "      <th>2</th>\n",
       "      <td>Harper Lee</td>\n",
       "      <td>The unforgettable novel of a childhood in a sl...</td>\n",
       "      <td>50th Anniversary</td>\n",
       "      <td>Paperback</td>\n",
       "      <td>9.78006E+12</td>\n",
       "      <td>324 pages</td>\n",
       "      <td>4.27</td>\n",
       "      <td>3745197</td>\n",
       "      <td>79450</td>\n",
       "      <td>To Kill a Mockingbird</td>\n",
       "      <td>Classics|Fiction|Historical|Historical Fiction...</td>\n",
       "      <td>https://images.gr-assets.com/books/1361975680l...</td>\n",
       "    </tr>\n",
       "    <tr>\n",
       "      <th>3</th>\n",
       "      <td>Jane Austen|Anna Quindlen|Mrs. Oliphant|George...</td>\n",
       "      <td>«È cosa ormai risaputa che a uno scapolo in po...</td>\n",
       "      <td>Modern Library Classics, USA / CAN</td>\n",
       "      <td>Paperback</td>\n",
       "      <td>9.78068E+12</td>\n",
       "      <td>279 pages</td>\n",
       "      <td>4.25</td>\n",
       "      <td>2453620</td>\n",
       "      <td>54322</td>\n",
       "      <td>Pride and Prejudice</td>\n",
       "      <td>Classics|Fiction|Romance</td>\n",
       "      <td>https://images.gr-assets.com/books/1320399351l...</td>\n",
       "    </tr>\n",
       "    <tr>\n",
       "      <th>4</th>\n",
       "      <td>Stephenie Meyer</td>\n",
       "      <td>About three things I was absolutely positive.F...</td>\n",
       "      <td>NaN</td>\n",
       "      <td>Paperback</td>\n",
       "      <td>9.78032E+12</td>\n",
       "      <td>498 pages</td>\n",
       "      <td>3.58</td>\n",
       "      <td>4281268</td>\n",
       "      <td>97991</td>\n",
       "      <td>Twilight</td>\n",
       "      <td>Young Adult|Fantasy|Romance|Paranormal|Vampire...</td>\n",
       "      <td>https://images.gr-assets.com/books/1361039443l...</td>\n",
       "    </tr>\n",
       "  </tbody>\n",
       "</table>\n",
       "</div>"
      ],
      "text/plain": [
       "                                        book_authors  \\\n",
       "0                                    Suzanne Collins   \n",
       "1                         J.K. Rowling|Mary GrandPré   \n",
       "2                                         Harper Lee   \n",
       "3  Jane Austen|Anna Quindlen|Mrs. Oliphant|George...   \n",
       "4                                    Stephenie Meyer   \n",
       "\n",
       "                                           book_desc  \\\n",
       "0  Winning will make you famous. Losing means cer...   \n",
       "1  There is a door at the end of a silent corrido...   \n",
       "2  The unforgettable novel of a childhood in a sl...   \n",
       "3  «È cosa ormai risaputa che a uno scapolo in po...   \n",
       "4  About three things I was absolutely positive.F...   \n",
       "\n",
       "                         book_edition book_format    book_isbn book_pages  \\\n",
       "0                                 NaN   Hardcover  9.78044E+12  374 pages   \n",
       "1                          US Edition   Paperback  9.78044E+12  870 pages   \n",
       "2                    50th Anniversary   Paperback  9.78006E+12  324 pages   \n",
       "3  Modern Library Classics, USA / CAN   Paperback  9.78068E+12  279 pages   \n",
       "4                                 NaN   Paperback  9.78032E+12  498 pages   \n",
       "\n",
       "   book_rating  book_rating_count  book_review_count  \\\n",
       "0         4.33            5519135             160706   \n",
       "1         4.48            2041594              33264   \n",
       "2         4.27            3745197              79450   \n",
       "3         4.25            2453620              54322   \n",
       "4         3.58            4281268              97991   \n",
       "\n",
       "                                  book_title  \\\n",
       "0                           The Hunger Games   \n",
       "1  Harry Potter and the Order of the Phoenix   \n",
       "2                      To Kill a Mockingbird   \n",
       "3                        Pride and Prejudice   \n",
       "4                                   Twilight   \n",
       "\n",
       "                                              genres  \\\n",
       "0  Young Adult|Fiction|Science Fiction|Dystopia|F...   \n",
       "1                        Fantasy|Young Adult|Fiction   \n",
       "2  Classics|Fiction|Historical|Historical Fiction...   \n",
       "3                           Classics|Fiction|Romance   \n",
       "4  Young Adult|Fantasy|Romance|Paranormal|Vampire...   \n",
       "\n",
       "                                           image_url  \n",
       "0  https://images.gr-assets.com/books/1447303603l...  \n",
       "1  https://images.gr-assets.com/books/1255614970l...  \n",
       "2  https://images.gr-assets.com/books/1361975680l...  \n",
       "3  https://images.gr-assets.com/books/1320399351l...  \n",
       "4  https://images.gr-assets.com/books/1361039443l...  "
      ]
     },
     "execution_count": 6,
     "metadata": {},
     "output_type": "execute_result"
    }
   ],
   "source": [
    "books.head()"
   ]
  },
  {
   "cell_type": "markdown",
   "metadata": {},
   "source": [
    "<div style=\"background-color:cornsilk;\"><span style=\"color:#182B49;\">Checking for null cells in the dataset </span></div>"
   ]
  },
  {
   "cell_type": "code",
   "execution_count": 7,
   "metadata": {},
   "outputs": [
    {
     "data": {
      "text/plain": [
       "book_edition    48848\n",
       "book_isbn       12866\n",
       "genres           3242\n",
       "book_pages       2522\n",
       "book_format      1656\n",
       "book_desc        1331\n",
       "image_url         683\n",
       "dtype: int64"
      ]
     },
     "execution_count": 7,
     "metadata": {},
     "output_type": "execute_result"
    }
   ],
   "source": [
    "#columns which contain null values and the number of null elements\n",
    "null_counts = books.isnull().sum()\n",
    "null_counts[null_counts > 0].sort_values(ascending=False) #null_counts in each column (sorted)"
   ]
  },
  {
   "cell_type": "markdown",
   "metadata": {},
   "source": [
    "<span style=\"color:darkred; font-weight:bold; font-size:13px;\">We need to think about how to deal with the null values<br></span>"
   ]
  },
  {
   "cell_type": "markdown",
   "metadata": {},
   "source": [
    "<div style=\"background-color:cornsilk;\"><span style=\"color:#182B49;\">Exploring dataset columns</span></div>"
   ]
  },
  {
   "cell_type": "code",
   "execution_count": 8,
   "metadata": {},
   "outputs": [
    {
     "data": {
      "text/plain": [
       "Index(['book_authors', 'book_desc', 'book_edition', 'book_format', 'book_isbn',\n",
       "       'book_pages', 'book_rating', 'book_rating_count', 'book_review_count',\n",
       "       'book_title', 'genres', 'image_url'],\n",
       "      dtype='object')"
      ]
     },
     "execution_count": 8,
     "metadata": {},
     "output_type": "execute_result"
    }
   ],
   "source": [
    "books.columns \n",
    "#we can look over all the current jupyter notebooks in kaggle and pick all the interesting things (including plots, analysis, etc), they have done."
   ]
  },
  {
   "cell_type": "code",
   "execution_count": 9,
   "metadata": {},
   "outputs": [
    {
     "data": {
      "text/plain": [
       "0                                          Suzanne Collins\n",
       "1                               J.K. Rowling|Mary GrandPré\n",
       "2                                               Harper Lee\n",
       "3        Jane Austen|Anna Quindlen|Mrs. Oliphant|George...\n",
       "4                                          Stephenie Meyer\n",
       "                               ...                        \n",
       "54296                                        Howard Megdal\n",
       "54297                                        Howard Megdal\n",
       "54298                                        Howard Megdal\n",
       "54299                               Mimi Baird|Eve Claxton\n",
       "54300                                           Leah Price\n",
       "Name: book_authors, Length: 54301, dtype: object"
      ]
     },
     "execution_count": 9,
     "metadata": {},
     "output_type": "execute_result"
    }
   ],
   "source": [
    "books['book_authors'] #column \"book_authors\""
   ]
  },
  {
   "cell_type": "markdown",
   "metadata": {},
   "source": [
    "<span style=\"background-color:cornsilk;\">Unique values and range for each column within the 54301 rows</span>"
   ]
  },
  {
   "cell_type": "code",
   "execution_count": 10,
   "metadata": {},
   "outputs": [
    {
     "name": "stdout",
     "output_type": "stream",
     "text": [
      "Number of unique book_authors:  27159\n",
      "Not unique:  27142\n",
      "book_authors ['(US)John G. Neihardt' '50 Cent|Robert Greene' \"A'Mera Frieman\" ...\n",
      " '天野 しゅにんた|Amano Shuninta' '籽月' '蘭陵笑笑生|劉本棟|繆天華']\n"
     ]
    }
   ],
   "source": [
    "print(\"Number of unique book_authors: \", len(np.unique(books['book_authors']))) #unique elements in the column\n",
    "print(\"Not unique: \", books.shape[0]- len(np.unique(books['book_authors']))) #not unique elements in this column\n",
    "print(\"book_authors\", np.unique(books['book_authors'])) #unique elements in this column"
   ]
  },
  {
   "cell_type": "code",
   "execution_count": 11,
   "metadata": {},
   "outputs": [
    {
     "data": {
      "text/html": [
       "<div>\n",
       "<style scoped>\n",
       "    .dataframe tbody tr th:only-of-type {\n",
       "        vertical-align: middle;\n",
       "    }\n",
       "\n",
       "    .dataframe tbody tr th {\n",
       "        vertical-align: top;\n",
       "    }\n",
       "\n",
       "    .dataframe thead th {\n",
       "        text-align: right;\n",
       "    }\n",
       "</style>\n",
       "<table border=\"1\" class=\"dataframe\">\n",
       "  <thead>\n",
       "    <tr style=\"text-align: right;\">\n",
       "      <th></th>\n",
       "      <th>book_authors</th>\n",
       "      <th>book_desc</th>\n",
       "      <th>book_edition</th>\n",
       "      <th>book_format</th>\n",
       "      <th>book_isbn</th>\n",
       "      <th>book_pages</th>\n",
       "      <th>book_rating</th>\n",
       "      <th>book_rating_count</th>\n",
       "      <th>book_review_count</th>\n",
       "      <th>book_title</th>\n",
       "      <th>genres</th>\n",
       "      <th>image_url</th>\n",
       "    </tr>\n",
       "  </thead>\n",
       "  <tbody>\n",
       "    <tr>\n",
       "      <th>0</th>\n",
       "      <td>Suzanne Collins</td>\n",
       "      <td>Winning will make you famous. Losing means cer...</td>\n",
       "      <td>NaN</td>\n",
       "      <td>Hardcover</td>\n",
       "      <td>9.78044E+12</td>\n",
       "      <td>374 pages</td>\n",
       "      <td>4.33</td>\n",
       "      <td>5519135</td>\n",
       "      <td>160706</td>\n",
       "      <td>The Hunger Games</td>\n",
       "      <td>Young Adult|Fiction|Science Fiction|Dystopia|F...</td>\n",
       "      <td>https://images.gr-assets.com/books/1447303603l...</td>\n",
       "    </tr>\n",
       "    <tr>\n",
       "      <th>1</th>\n",
       "      <td>J.K. Rowling|Mary GrandPré</td>\n",
       "      <td>There is a door at the end of a silent corrido...</td>\n",
       "      <td>US Edition</td>\n",
       "      <td>Paperback</td>\n",
       "      <td>9.78044E+12</td>\n",
       "      <td>870 pages</td>\n",
       "      <td>4.48</td>\n",
       "      <td>2041594</td>\n",
       "      <td>33264</td>\n",
       "      <td>Harry Potter and the Order of the Phoenix</td>\n",
       "      <td>Fantasy|Young Adult|Fiction</td>\n",
       "      <td>https://images.gr-assets.com/books/1255614970l...</td>\n",
       "    </tr>\n",
       "    <tr>\n",
       "      <th>2</th>\n",
       "      <td>Harper Lee</td>\n",
       "      <td>The unforgettable novel of a childhood in a sl...</td>\n",
       "      <td>50th Anniversary</td>\n",
       "      <td>Paperback</td>\n",
       "      <td>9.78006E+12</td>\n",
       "      <td>324 pages</td>\n",
       "      <td>4.27</td>\n",
       "      <td>3745197</td>\n",
       "      <td>79450</td>\n",
       "      <td>To Kill a Mockingbird</td>\n",
       "      <td>Classics|Fiction|Historical|Historical Fiction...</td>\n",
       "      <td>https://images.gr-assets.com/books/1361975680l...</td>\n",
       "    </tr>\n",
       "    <tr>\n",
       "      <th>3</th>\n",
       "      <td>Jane Austen|Anna Quindlen|Mrs. Oliphant|George...</td>\n",
       "      <td>«È cosa ormai risaputa che a uno scapolo in po...</td>\n",
       "      <td>Modern Library Classics, USA / CAN</td>\n",
       "      <td>Paperback</td>\n",
       "      <td>9.78068E+12</td>\n",
       "      <td>279 pages</td>\n",
       "      <td>4.25</td>\n",
       "      <td>2453620</td>\n",
       "      <td>54322</td>\n",
       "      <td>Pride and Prejudice</td>\n",
       "      <td>Classics|Fiction|Romance</td>\n",
       "      <td>https://images.gr-assets.com/books/1320399351l...</td>\n",
       "    </tr>\n",
       "    <tr>\n",
       "      <th>4</th>\n",
       "      <td>Stephenie Meyer</td>\n",
       "      <td>About three things I was absolutely positive.F...</td>\n",
       "      <td>NaN</td>\n",
       "      <td>Paperback</td>\n",
       "      <td>9.78032E+12</td>\n",
       "      <td>498 pages</td>\n",
       "      <td>3.58</td>\n",
       "      <td>4281268</td>\n",
       "      <td>97991</td>\n",
       "      <td>Twilight</td>\n",
       "      <td>Young Adult|Fantasy|Romance|Paranormal|Vampire...</td>\n",
       "      <td>https://images.gr-assets.com/books/1361039443l...</td>\n",
       "    </tr>\n",
       "  </tbody>\n",
       "</table>\n",
       "</div>"
      ],
      "text/plain": [
       "                                        book_authors  \\\n",
       "0                                    Suzanne Collins   \n",
       "1                         J.K. Rowling|Mary GrandPré   \n",
       "2                                         Harper Lee   \n",
       "3  Jane Austen|Anna Quindlen|Mrs. Oliphant|George...   \n",
       "4                                    Stephenie Meyer   \n",
       "\n",
       "                                           book_desc  \\\n",
       "0  Winning will make you famous. Losing means cer...   \n",
       "1  There is a door at the end of a silent corrido...   \n",
       "2  The unforgettable novel of a childhood in a sl...   \n",
       "3  «È cosa ormai risaputa che a uno scapolo in po...   \n",
       "4  About three things I was absolutely positive.F...   \n",
       "\n",
       "                         book_edition book_format    book_isbn book_pages  \\\n",
       "0                                 NaN   Hardcover  9.78044E+12  374 pages   \n",
       "1                          US Edition   Paperback  9.78044E+12  870 pages   \n",
       "2                    50th Anniversary   Paperback  9.78006E+12  324 pages   \n",
       "3  Modern Library Classics, USA / CAN   Paperback  9.78068E+12  279 pages   \n",
       "4                                 NaN   Paperback  9.78032E+12  498 pages   \n",
       "\n",
       "   book_rating  book_rating_count  book_review_count  \\\n",
       "0         4.33            5519135             160706   \n",
       "1         4.48            2041594              33264   \n",
       "2         4.27            3745197              79450   \n",
       "3         4.25            2453620              54322   \n",
       "4         3.58            4281268              97991   \n",
       "\n",
       "                                  book_title  \\\n",
       "0                           The Hunger Games   \n",
       "1  Harry Potter and the Order of the Phoenix   \n",
       "2                      To Kill a Mockingbird   \n",
       "3                        Pride and Prejudice   \n",
       "4                                   Twilight   \n",
       "\n",
       "                                              genres  \\\n",
       "0  Young Adult|Fiction|Science Fiction|Dystopia|F...   \n",
       "1                        Fantasy|Young Adult|Fiction   \n",
       "2  Classics|Fiction|Historical|Historical Fiction...   \n",
       "3                           Classics|Fiction|Romance   \n",
       "4  Young Adult|Fantasy|Romance|Paranormal|Vampire...   \n",
       "\n",
       "                                           image_url  \n",
       "0  https://images.gr-assets.com/books/1447303603l...  \n",
       "1  https://images.gr-assets.com/books/1255614970l...  \n",
       "2  https://images.gr-assets.com/books/1361975680l...  \n",
       "3  https://images.gr-assets.com/books/1320399351l...  \n",
       "4  https://images.gr-assets.com/books/1361039443l...  "
      ]
     },
     "execution_count": 11,
     "metadata": {},
     "output_type": "execute_result"
    }
   ],
   "source": [
    "books.head()"
   ]
  },
  {
   "cell_type": "markdown",
   "metadata": {},
   "source": [
    "<div style=\"background-color:cornsilk;\"><span style=\"color:#182B49;\">Splitting the genres column of the above dataset and\n",
    "expanding it into multiple genres</span></div>"
   ]
  },
  {
   "cell_type": "code",
   "execution_count": 16,
   "metadata": {},
   "outputs": [],
   "source": [
    "g= []\n",
    "for i in range(books.shape[0]):\n",
    "    if isinstance(books['genres'].iloc[i], str) and len(books['genres'].iloc[i])>0:\n",
    "        g.append(books['genres'].iloc[i])"
   ]
  },
  {
   "cell_type": "code",
   "execution_count": 19,
   "metadata": {},
   "outputs": [],
   "source": [
    "#book_genres = books['genres'].str.split('|', expand=False) or above"
   ]
  },
  {
   "cell_type": "code",
   "execution_count": 22,
   "metadata": {},
   "outputs": [
    {
     "data": {
      "text/plain": [
       "0    [Young Adult, Fiction, Science Fiction, Dystop...\n",
       "1                      [Fantasy, Young Adult, Fiction]\n",
       "2    [Classics, Fiction, Historical, Historical Fic...\n",
       "3                         [Classics, Fiction, Romance]\n",
       "4    [Young Adult, Fantasy, Romance, Paranormal, Va...\n",
       "Name: genres, dtype: object"
      ]
     },
     "execution_count": 22,
     "metadata": {},
     "output_type": "execute_result"
    }
   ],
   "source": [
    "movie_genres[:5] #Genres of top 5 rows"
   ]
  },
  {
   "cell_type": "code",
   "execution_count": 24,
   "metadata": {},
   "outputs": [],
   "source": [
    "#figuring out all the existing genres and saving the genres in Genres_list list\n",
    "Genres_list = []\n",
    "for i in range(len(books)):\n",
    "    row = books.iloc[i]\n",
    "    Gen = str(row.genres)\n",
    "    genres = Gen.split('|')\n",
    "    for genre in genres:\n",
    "        if genre not in Genres_list:\n",
    "            Genres_list.append(genre)\n",
    "#len(Genres_list)"
   ]
  },
  {
   "cell_type": "code",
   "execution_count": 25,
   "metadata": {},
   "outputs": [
    {
     "data": {
      "text/plain": [
       "867"
      ]
     },
     "execution_count": 25,
     "metadata": {},
     "output_type": "execute_result"
    }
   ],
   "source": [
    "len(Genres_list)"
   ]
  },
  {
   "cell_type": "markdown",
   "metadata": {},
   "source": [
    "<div style=\"background-color:cornsilk;\"><span style=\"color:#182B49;\">Adding genres columns into the dataset</span></div>"
   ]
  },
  {
   "cell_type": "code",
   "execution_count": 27,
   "metadata": {},
   "outputs": [
    {
     "data": {
      "text/plain": [
       "Index(['book_authors', 'book_desc', 'book_edition', 'book_format', 'book_isbn',\n",
       "       'book_pages', 'book_rating', 'book_rating_count', 'book_review_count',\n",
       "       'book_title',\n",
       "       ...\n",
       "       'Subways', 'London Underground', 'Apple', 'Local History',\n",
       "       'Disability Studies', 'Peak Oil', 'Social Change', 'Health Care',\n",
       "       'Read For College', 'Anthropomorphic'],\n",
       "      dtype='object', length=879)"
      ]
     },
     "execution_count": 27,
     "metadata": {},
     "output_type": "execute_result"
    }
   ],
   "source": [
    "for genre in Genres_list:\n",
    "    books[genre] = 0 #Initiating the genres with 0, then each movie's genres will be 1\n",
    "#df.head()\n",
    "books.columns"
   ]
  },
  {
   "cell_type": "code",
   "execution_count": 36,
   "metadata": {},
   "outputs": [
    {
     "data": {
      "text/plain": [
       "(54301, 879)"
      ]
     },
     "execution_count": 36,
     "metadata": {},
     "output_type": "execute_result"
    }
   ],
   "source": [
    "books.shape"
   ]
  },
  {
   "cell_type": "markdown",
   "metadata": {},
   "source": [
    "<div style=\"background-color:cornsilk;\"><span style=\"color:#182B49;\">Filling the genre columns via 1 if a movie is contained in each genre</span></div>"
   ]
  },
  {
   "cell_type": "markdown",
   "metadata": {},
   "source": [
    "<span style=\"color:darkred; font-weight:bold; font-size:13px;\">It might be a bad idea to add all genres as columns and we might need to do a better act of grouping some genres together. Now we can treat all genres columns as bags of words. So in the future we can do comparison between movies based on their genres.<br></span>"
   ]
  },
  {
   "cell_type": "code",
   "execution_count": null,
   "metadata": {},
   "outputs": [],
   "source": []
  },
  {
   "cell_type": "code",
   "execution_count": null,
   "metadata": {},
   "outputs": [],
   "source": []
  },
  {
   "cell_type": "code",
   "execution_count": null,
   "metadata": {},
   "outputs": [],
   "source": []
  },
  {
   "cell_type": "code",
   "execution_count": null,
   "metadata": {},
   "outputs": [],
   "source": []
  },
  {
   "cell_type": "code",
   "execution_count": null,
   "metadata": {},
   "outputs": [],
   "source": []
  },
  {
   "cell_type": "markdown",
   "metadata": {},
   "source": [
    "<div style=\"background-color:cornsilk;\"><span style=\"color:#182B49;\">Merging this dataset with others</span></div>"
   ]
  },
  {
   "cell_type": "code",
   "execution_count": 36,
   "metadata": {},
   "outputs": [
    {
     "name": "stderr",
     "output_type": "stream",
     "text": [
      "b'Skipping line 3350: expected 12 fields, saw 13\\nSkipping line 4704: expected 12 fields, saw 13\\nSkipping line 5879: expected 12 fields, saw 13\\nSkipping line 8981: expected 12 fields, saw 13\\n'\n"
     ]
    }
   ],
   "source": [
    "goodreads = pd.read_csv('books.csv',error_bad_lines = False)"
   ]
  },
  {
   "cell_type": "code",
   "execution_count": 42,
   "metadata": {},
   "outputs": [],
   "source": [
    "books.columns = ['book_authors', 'book_desc', 'book_edition', 'book_format', 'book_isbn',\n",
    "       'book_pages', 'book_rating', 'book_rating_count', 'book_review_count',\n",
    "       'title', 'genres', 'image_url']"
   ]
  },
  {
   "cell_type": "code",
   "execution_count": 44,
   "metadata": {},
   "outputs": [
    {
     "data": {
      "text/html": [
       "<div>\n",
       "<style scoped>\n",
       "    .dataframe tbody tr th:only-of-type {\n",
       "        vertical-align: middle;\n",
       "    }\n",
       "\n",
       "    .dataframe tbody tr th {\n",
       "        vertical-align: top;\n",
       "    }\n",
       "\n",
       "    .dataframe thead th {\n",
       "        text-align: right;\n",
       "    }\n",
       "</style>\n",
       "<table border=\"1\" class=\"dataframe\">\n",
       "  <thead>\n",
       "    <tr style=\"text-align: right;\">\n",
       "      <th></th>\n",
       "      <th>bookID</th>\n",
       "      <th>title</th>\n",
       "      <th>authors</th>\n",
       "      <th>average_rating</th>\n",
       "      <th>isbn</th>\n",
       "      <th>isbn13</th>\n",
       "      <th>language_code</th>\n",
       "      <th>num_pages</th>\n",
       "      <th>ratings_count</th>\n",
       "      <th>text_reviews_count</th>\n",
       "      <th>publication_date</th>\n",
       "      <th>publisher</th>\n",
       "    </tr>\n",
       "  </thead>\n",
       "  <tbody>\n",
       "    <tr>\n",
       "      <th>0</th>\n",
       "      <td>1</td>\n",
       "      <td>Harry Potter and the Half-Blood Prince (Harry ...</td>\n",
       "      <td>J.K. Rowling/Mary GrandPré</td>\n",
       "      <td>4.57</td>\n",
       "      <td>0439785960</td>\n",
       "      <td>9780439785969</td>\n",
       "      <td>eng</td>\n",
       "      <td>652</td>\n",
       "      <td>2095690</td>\n",
       "      <td>27591</td>\n",
       "      <td>9/16/2006</td>\n",
       "      <td>Scholastic Inc.</td>\n",
       "    </tr>\n",
       "    <tr>\n",
       "      <th>1</th>\n",
       "      <td>2</td>\n",
       "      <td>Harry Potter and the Order of the Phoenix (Har...</td>\n",
       "      <td>J.K. Rowling/Mary GrandPré</td>\n",
       "      <td>4.49</td>\n",
       "      <td>0439358078</td>\n",
       "      <td>9780439358071</td>\n",
       "      <td>eng</td>\n",
       "      <td>870</td>\n",
       "      <td>2153167</td>\n",
       "      <td>29221</td>\n",
       "      <td>9/1/2004</td>\n",
       "      <td>Scholastic Inc.</td>\n",
       "    </tr>\n",
       "    <tr>\n",
       "      <th>2</th>\n",
       "      <td>4</td>\n",
       "      <td>Harry Potter and the Chamber of Secrets (Harry...</td>\n",
       "      <td>J.K. Rowling</td>\n",
       "      <td>4.42</td>\n",
       "      <td>0439554896</td>\n",
       "      <td>9780439554893</td>\n",
       "      <td>eng</td>\n",
       "      <td>352</td>\n",
       "      <td>6333</td>\n",
       "      <td>244</td>\n",
       "      <td>11/1/2003</td>\n",
       "      <td>Scholastic</td>\n",
       "    </tr>\n",
       "    <tr>\n",
       "      <th>3</th>\n",
       "      <td>5</td>\n",
       "      <td>Harry Potter and the Prisoner of Azkaban (Harr...</td>\n",
       "      <td>J.K. Rowling/Mary GrandPré</td>\n",
       "      <td>4.56</td>\n",
       "      <td>043965548X</td>\n",
       "      <td>9780439655484</td>\n",
       "      <td>eng</td>\n",
       "      <td>435</td>\n",
       "      <td>2339585</td>\n",
       "      <td>36325</td>\n",
       "      <td>5/1/2004</td>\n",
       "      <td>Scholastic Inc.</td>\n",
       "    </tr>\n",
       "    <tr>\n",
       "      <th>4</th>\n",
       "      <td>8</td>\n",
       "      <td>Harry Potter Boxed Set  Books 1-5 (Harry Potte...</td>\n",
       "      <td>J.K. Rowling/Mary GrandPré</td>\n",
       "      <td>4.78</td>\n",
       "      <td>0439682584</td>\n",
       "      <td>9780439682589</td>\n",
       "      <td>eng</td>\n",
       "      <td>2690</td>\n",
       "      <td>41428</td>\n",
       "      <td>164</td>\n",
       "      <td>9/13/2004</td>\n",
       "      <td>Scholastic</td>\n",
       "    </tr>\n",
       "  </tbody>\n",
       "</table>\n",
       "</div>"
      ],
      "text/plain": [
       "   bookID                                              title  \\\n",
       "0       1  Harry Potter and the Half-Blood Prince (Harry ...   \n",
       "1       2  Harry Potter and the Order of the Phoenix (Har...   \n",
       "2       4  Harry Potter and the Chamber of Secrets (Harry...   \n",
       "3       5  Harry Potter and the Prisoner of Azkaban (Harr...   \n",
       "4       8  Harry Potter Boxed Set  Books 1-5 (Harry Potte...   \n",
       "\n",
       "                      authors  average_rating        isbn         isbn13  \\\n",
       "0  J.K. Rowling/Mary GrandPré            4.57  0439785960  9780439785969   \n",
       "1  J.K. Rowling/Mary GrandPré            4.49  0439358078  9780439358071   \n",
       "2                J.K. Rowling            4.42  0439554896  9780439554893   \n",
       "3  J.K. Rowling/Mary GrandPré            4.56  043965548X  9780439655484   \n",
       "4  J.K. Rowling/Mary GrandPré            4.78  0439682584  9780439682589   \n",
       "\n",
       "  language_code    num_pages  ratings_count  text_reviews_count  \\\n",
       "0           eng          652        2095690               27591   \n",
       "1           eng          870        2153167               29221   \n",
       "2           eng          352           6333                 244   \n",
       "3           eng          435        2339585               36325   \n",
       "4           eng         2690          41428                 164   \n",
       "\n",
       "  publication_date        publisher  \n",
       "0        9/16/2006  Scholastic Inc.  \n",
       "1         9/1/2004  Scholastic Inc.  \n",
       "2        11/1/2003       Scholastic  \n",
       "3         5/1/2004  Scholastic Inc.  \n",
       "4        9/13/2004       Scholastic  "
      ]
     },
     "execution_count": 44,
     "metadata": {},
     "output_type": "execute_result"
    }
   ],
   "source": [
    "goodreads.head()"
   ]
  },
  {
   "cell_type": "code",
   "execution_count": 45,
   "metadata": {},
   "outputs": [
    {
     "data": {
      "text/html": [
       "<div>\n",
       "<style scoped>\n",
       "    .dataframe tbody tr th:only-of-type {\n",
       "        vertical-align: middle;\n",
       "    }\n",
       "\n",
       "    .dataframe tbody tr th {\n",
       "        vertical-align: top;\n",
       "    }\n",
       "\n",
       "    .dataframe thead th {\n",
       "        text-align: right;\n",
       "    }\n",
       "</style>\n",
       "<table border=\"1\" class=\"dataframe\">\n",
       "  <thead>\n",
       "    <tr style=\"text-align: right;\">\n",
       "      <th></th>\n",
       "      <th>book_authors</th>\n",
       "      <th>book_desc</th>\n",
       "      <th>book_edition</th>\n",
       "      <th>book_format</th>\n",
       "      <th>book_isbn</th>\n",
       "      <th>book_pages</th>\n",
       "      <th>book_rating</th>\n",
       "      <th>book_rating_count</th>\n",
       "      <th>book_review_count</th>\n",
       "      <th>title</th>\n",
       "      <th>genres</th>\n",
       "      <th>image_url</th>\n",
       "    </tr>\n",
       "  </thead>\n",
       "  <tbody>\n",
       "    <tr>\n",
       "      <th>0</th>\n",
       "      <td>Suzanne Collins</td>\n",
       "      <td>Winning will make you famous. Losing means cer...</td>\n",
       "      <td>NaN</td>\n",
       "      <td>Hardcover</td>\n",
       "      <td>9.78044E+12</td>\n",
       "      <td>374 pages</td>\n",
       "      <td>4.33</td>\n",
       "      <td>5519135</td>\n",
       "      <td>160706</td>\n",
       "      <td>The Hunger Games</td>\n",
       "      <td>Young Adult|Fiction|Science Fiction|Dystopia|F...</td>\n",
       "      <td>https://images.gr-assets.com/books/1447303603l...</td>\n",
       "    </tr>\n",
       "    <tr>\n",
       "      <th>1</th>\n",
       "      <td>J.K. Rowling|Mary GrandPré</td>\n",
       "      <td>There is a door at the end of a silent corrido...</td>\n",
       "      <td>US Edition</td>\n",
       "      <td>Paperback</td>\n",
       "      <td>9.78044E+12</td>\n",
       "      <td>870 pages</td>\n",
       "      <td>4.48</td>\n",
       "      <td>2041594</td>\n",
       "      <td>33264</td>\n",
       "      <td>Harry Potter and the Order of the Phoenix</td>\n",
       "      <td>Fantasy|Young Adult|Fiction</td>\n",
       "      <td>https://images.gr-assets.com/books/1255614970l...</td>\n",
       "    </tr>\n",
       "    <tr>\n",
       "      <th>2</th>\n",
       "      <td>Harper Lee</td>\n",
       "      <td>The unforgettable novel of a childhood in a sl...</td>\n",
       "      <td>50th Anniversary</td>\n",
       "      <td>Paperback</td>\n",
       "      <td>9.78006E+12</td>\n",
       "      <td>324 pages</td>\n",
       "      <td>4.27</td>\n",
       "      <td>3745197</td>\n",
       "      <td>79450</td>\n",
       "      <td>To Kill a Mockingbird</td>\n",
       "      <td>Classics|Fiction|Historical|Historical Fiction...</td>\n",
       "      <td>https://images.gr-assets.com/books/1361975680l...</td>\n",
       "    </tr>\n",
       "    <tr>\n",
       "      <th>3</th>\n",
       "      <td>Jane Austen|Anna Quindlen|Mrs. Oliphant|George...</td>\n",
       "      <td>«È cosa ormai risaputa che a uno scapolo in po...</td>\n",
       "      <td>Modern Library Classics, USA / CAN</td>\n",
       "      <td>Paperback</td>\n",
       "      <td>9.78068E+12</td>\n",
       "      <td>279 pages</td>\n",
       "      <td>4.25</td>\n",
       "      <td>2453620</td>\n",
       "      <td>54322</td>\n",
       "      <td>Pride and Prejudice</td>\n",
       "      <td>Classics|Fiction|Romance</td>\n",
       "      <td>https://images.gr-assets.com/books/1320399351l...</td>\n",
       "    </tr>\n",
       "    <tr>\n",
       "      <th>4</th>\n",
       "      <td>Stephenie Meyer</td>\n",
       "      <td>About three things I was absolutely positive.F...</td>\n",
       "      <td>NaN</td>\n",
       "      <td>Paperback</td>\n",
       "      <td>9.78032E+12</td>\n",
       "      <td>498 pages</td>\n",
       "      <td>3.58</td>\n",
       "      <td>4281268</td>\n",
       "      <td>97991</td>\n",
       "      <td>Twilight</td>\n",
       "      <td>Young Adult|Fantasy|Romance|Paranormal|Vampire...</td>\n",
       "      <td>https://images.gr-assets.com/books/1361039443l...</td>\n",
       "    </tr>\n",
       "  </tbody>\n",
       "</table>\n",
       "</div>"
      ],
      "text/plain": [
       "                                        book_authors  \\\n",
       "0                                    Suzanne Collins   \n",
       "1                         J.K. Rowling|Mary GrandPré   \n",
       "2                                         Harper Lee   \n",
       "3  Jane Austen|Anna Quindlen|Mrs. Oliphant|George...   \n",
       "4                                    Stephenie Meyer   \n",
       "\n",
       "                                           book_desc  \\\n",
       "0  Winning will make you famous. Losing means cer...   \n",
       "1  There is a door at the end of a silent corrido...   \n",
       "2  The unforgettable novel of a childhood in a sl...   \n",
       "3  «È cosa ormai risaputa che a uno scapolo in po...   \n",
       "4  About three things I was absolutely positive.F...   \n",
       "\n",
       "                         book_edition book_format    book_isbn book_pages  \\\n",
       "0                                 NaN   Hardcover  9.78044E+12  374 pages   \n",
       "1                          US Edition   Paperback  9.78044E+12  870 pages   \n",
       "2                    50th Anniversary   Paperback  9.78006E+12  324 pages   \n",
       "3  Modern Library Classics, USA / CAN   Paperback  9.78068E+12  279 pages   \n",
       "4                                 NaN   Paperback  9.78032E+12  498 pages   \n",
       "\n",
       "   book_rating  book_rating_count  book_review_count  \\\n",
       "0         4.33            5519135             160706   \n",
       "1         4.48            2041594              33264   \n",
       "2         4.27            3745197              79450   \n",
       "3         4.25            2453620              54322   \n",
       "4         3.58            4281268              97991   \n",
       "\n",
       "                                       title  \\\n",
       "0                           The Hunger Games   \n",
       "1  Harry Potter and the Order of the Phoenix   \n",
       "2                      To Kill a Mockingbird   \n",
       "3                        Pride and Prejudice   \n",
       "4                                   Twilight   \n",
       "\n",
       "                                              genres  \\\n",
       "0  Young Adult|Fiction|Science Fiction|Dystopia|F...   \n",
       "1                        Fantasy|Young Adult|Fiction   \n",
       "2  Classics|Fiction|Historical|Historical Fiction...   \n",
       "3                           Classics|Fiction|Romance   \n",
       "4  Young Adult|Fantasy|Romance|Paranormal|Vampire...   \n",
       "\n",
       "                                           image_url  \n",
       "0  https://images.gr-assets.com/books/1447303603l...  \n",
       "1  https://images.gr-assets.com/books/1255614970l...  \n",
       "2  https://images.gr-assets.com/books/1361975680l...  \n",
       "3  https://images.gr-assets.com/books/1320399351l...  \n",
       "4  https://images.gr-assets.com/books/1361039443l...  "
      ]
     },
     "execution_count": 45,
     "metadata": {},
     "output_type": "execute_result"
    }
   ],
   "source": [
    "books.head()"
   ]
  },
  {
   "cell_type": "markdown",
   "metadata": {},
   "source": [
    "<div style=\"background-color:cornsilk;\"><span style=\"color:#182B49;\">Converting values in column title to lower (for a better merge)</span></div>"
   ]
  },
  {
   "cell_type": "code",
   "execution_count": 52,
   "metadata": {},
   "outputs": [
    {
     "data": {
      "text/plain": [
       "'the hunger games'"
      ]
     },
     "execution_count": 52,
     "metadata": {},
     "output_type": "execute_result"
    }
   ],
   "source": [
    "books['title'].iloc[0].lower()"
   ]
  },
  {
   "cell_type": "code",
   "execution_count": 54,
   "metadata": {},
   "outputs": [],
   "source": [
    "lowered = [books['title'].iloc[i].lower() for i in range(len(books['title']))]\n",
    "books['title'] = lowered"
   ]
  },
  {
   "cell_type": "code",
   "execution_count": 55,
   "metadata": {},
   "outputs": [
    {
     "data": {
      "text/plain": [
       "'harry potter and the half-blood prince (harry potter  #6)'"
      ]
     },
     "execution_count": 55,
     "metadata": {},
     "output_type": "execute_result"
    }
   ],
   "source": [
    "goodreads['title'].iloc[0].lower()"
   ]
  },
  {
   "cell_type": "code",
   "execution_count": 56,
   "metadata": {},
   "outputs": [],
   "source": [
    "#future: we need to get rid of the \"(\", \",\", etc in titles for a betterr merge"
   ]
  },
  {
   "cell_type": "code",
   "execution_count": 66,
   "metadata": {},
   "outputs": [],
   "source": [
    "lowered = [goodreads['title'].iloc[i].lower() for i in range(len(goodreads['title']))]\n",
    "goodreads['title'] = lowered"
   ]
  },
  {
   "cell_type": "code",
   "execution_count": 70,
   "metadata": {},
   "outputs": [
    {
     "data": {
      "text/html": [
       "<div>\n",
       "<style scoped>\n",
       "    .dataframe tbody tr th:only-of-type {\n",
       "        vertical-align: middle;\n",
       "    }\n",
       "\n",
       "    .dataframe tbody tr th {\n",
       "        vertical-align: top;\n",
       "    }\n",
       "\n",
       "    .dataframe thead th {\n",
       "        text-align: right;\n",
       "    }\n",
       "</style>\n",
       "<table border=\"1\" class=\"dataframe\">\n",
       "  <thead>\n",
       "    <tr style=\"text-align: right;\">\n",
       "      <th></th>\n",
       "      <th>book_authors</th>\n",
       "      <th>book_desc</th>\n",
       "      <th>book_edition</th>\n",
       "      <th>book_format</th>\n",
       "      <th>book_isbn</th>\n",
       "      <th>book_pages</th>\n",
       "      <th>book_rating</th>\n",
       "      <th>book_rating_count</th>\n",
       "      <th>book_review_count</th>\n",
       "      <th>title</th>\n",
       "      <th>...</th>\n",
       "      <th>authors</th>\n",
       "      <th>average_rating</th>\n",
       "      <th>isbn</th>\n",
       "      <th>isbn13</th>\n",
       "      <th>language_code</th>\n",
       "      <th>num_pages</th>\n",
       "      <th>ratings_count</th>\n",
       "      <th>text_reviews_count</th>\n",
       "      <th>publication_date</th>\n",
       "      <th>publisher</th>\n",
       "    </tr>\n",
       "  </thead>\n",
       "  <tbody>\n",
       "    <tr>\n",
       "      <th>0</th>\n",
       "      <td>Harper Lee</td>\n",
       "      <td>The unforgettable novel of a childhood in a sl...</td>\n",
       "      <td>50th Anniversary</td>\n",
       "      <td>Paperback</td>\n",
       "      <td>9.78006E+12</td>\n",
       "      <td>324 pages</td>\n",
       "      <td>4.27</td>\n",
       "      <td>3745197</td>\n",
       "      <td>79450</td>\n",
       "      <td>to kill a mockingbird</td>\n",
       "      <td>...</td>\n",
       "      <td>Harper Lee</td>\n",
       "      <td>4.27</td>\n",
       "      <td>0060935464</td>\n",
       "      <td>9780060935467</td>\n",
       "      <td>eng</td>\n",
       "      <td>323</td>\n",
       "      <td>10524</td>\n",
       "      <td>898</td>\n",
       "      <td>7/5/2005</td>\n",
       "      <td>Harper Perennial Modern Classics</td>\n",
       "    </tr>\n",
       "    <tr>\n",
       "      <th>1</th>\n",
       "      <td>Harper Lee</td>\n",
       "      <td>The unforgettable novel of a childhood in a sl...</td>\n",
       "      <td>50th Anniversary</td>\n",
       "      <td>Paperback</td>\n",
       "      <td>9.78006E+12</td>\n",
       "      <td>324 pages</td>\n",
       "      <td>4.27</td>\n",
       "      <td>3745197</td>\n",
       "      <td>79450</td>\n",
       "      <td>to kill a mockingbird</td>\n",
       "      <td>...</td>\n",
       "      <td>Harper Lee/Sissy Spacek</td>\n",
       "      <td>4.27</td>\n",
       "      <td>0060888695</td>\n",
       "      <td>9780060888695</td>\n",
       "      <td>eng</td>\n",
       "      <td>11</td>\n",
       "      <td>697</td>\n",
       "      <td>180</td>\n",
       "      <td>8/22/2006</td>\n",
       "      <td>Caedmon</td>\n",
       "    </tr>\n",
       "    <tr>\n",
       "      <th>2</th>\n",
       "      <td>Harper Lee</td>\n",
       "      <td>The unforgettable novel of a childhood in a sl...</td>\n",
       "      <td>50th Anniversary</td>\n",
       "      <td>Paperback</td>\n",
       "      <td>9.78006E+12</td>\n",
       "      <td>324 pages</td>\n",
       "      <td>4.27</td>\n",
       "      <td>3745197</td>\n",
       "      <td>79450</td>\n",
       "      <td>to kill a mockingbird</td>\n",
       "      <td>...</td>\n",
       "      <td>Harper Lee</td>\n",
       "      <td>4.27</td>\n",
       "      <td>0061205699</td>\n",
       "      <td>9780061205699</td>\n",
       "      <td>en-US</td>\n",
       "      <td>323</td>\n",
       "      <td>271</td>\n",
       "      <td>34</td>\n",
       "      <td>10/17/2006</td>\n",
       "      <td>Harper</td>\n",
       "    </tr>\n",
       "    <tr>\n",
       "      <th>3</th>\n",
       "      <td>Harper Lee</td>\n",
       "      <td>Harper Lee's Pulitzer Prize-winning masterwork...</td>\n",
       "      <td>NaN</td>\n",
       "      <td>Mass Market Paperback</td>\n",
       "      <td>9.7801E+12</td>\n",
       "      <td>309 pages</td>\n",
       "      <td>4.27</td>\n",
       "      <td>3746569</td>\n",
       "      <td>79475</td>\n",
       "      <td>to kill a mockingbird</td>\n",
       "      <td>...</td>\n",
       "      <td>Harper Lee</td>\n",
       "      <td>4.27</td>\n",
       "      <td>0060935464</td>\n",
       "      <td>9780060935467</td>\n",
       "      <td>eng</td>\n",
       "      <td>323</td>\n",
       "      <td>10524</td>\n",
       "      <td>898</td>\n",
       "      <td>7/5/2005</td>\n",
       "      <td>Harper Perennial Modern Classics</td>\n",
       "    </tr>\n",
       "    <tr>\n",
       "      <th>4</th>\n",
       "      <td>Harper Lee</td>\n",
       "      <td>Harper Lee's Pulitzer Prize-winning masterwork...</td>\n",
       "      <td>NaN</td>\n",
       "      <td>Mass Market Paperback</td>\n",
       "      <td>9.7801E+12</td>\n",
       "      <td>309 pages</td>\n",
       "      <td>4.27</td>\n",
       "      <td>3746569</td>\n",
       "      <td>79475</td>\n",
       "      <td>to kill a mockingbird</td>\n",
       "      <td>...</td>\n",
       "      <td>Harper Lee/Sissy Spacek</td>\n",
       "      <td>4.27</td>\n",
       "      <td>0060888695</td>\n",
       "      <td>9780060888695</td>\n",
       "      <td>eng</td>\n",
       "      <td>11</td>\n",
       "      <td>697</td>\n",
       "      <td>180</td>\n",
       "      <td>8/22/2006</td>\n",
       "      <td>Caedmon</td>\n",
       "    </tr>\n",
       "    <tr>\n",
       "      <th>...</th>\n",
       "      <td>...</td>\n",
       "      <td>...</td>\n",
       "      <td>...</td>\n",
       "      <td>...</td>\n",
       "      <td>...</td>\n",
       "      <td>...</td>\n",
       "      <td>...</td>\n",
       "      <td>...</td>\n",
       "      <td>...</td>\n",
       "      <td>...</td>\n",
       "      <td>...</td>\n",
       "      <td>...</td>\n",
       "      <td>...</td>\n",
       "      <td>...</td>\n",
       "      <td>...</td>\n",
       "      <td>...</td>\n",
       "      <td>...</td>\n",
       "      <td>...</td>\n",
       "      <td>...</td>\n",
       "      <td>...</td>\n",
       "      <td>...</td>\n",
       "    </tr>\n",
       "    <tr>\n",
       "      <th>5416</th>\n",
       "      <td>Kazuo Ishiguro</td>\n",
       "      <td>From the Booker Prize-winning, bestselling aut...</td>\n",
       "      <td>NaN</td>\n",
       "      <td>Paperback</td>\n",
       "      <td>9.78038E+12</td>\n",
       "      <td>336 pages</td>\n",
       "      <td>3.47</td>\n",
       "      <td>21291</td>\n",
       "      <td>2037</td>\n",
       "      <td>when we were orphans</td>\n",
       "      <td>...</td>\n",
       "      <td>Kazuo Ishiguro</td>\n",
       "      <td>3.49</td>\n",
       "      <td>0571225403</td>\n",
       "      <td>9780571225408</td>\n",
       "      <td>eng</td>\n",
       "      <td>320</td>\n",
       "      <td>19252</td>\n",
       "      <td>1673</td>\n",
       "      <td>12/1/2007</td>\n",
       "      <td>Faber &amp; Faber</td>\n",
       "    </tr>\n",
       "    <tr>\n",
       "      <th>5417</th>\n",
       "      <td>Martin Amis</td>\n",
       "      <td>In his uproarious first novel Martin Amis, aut...</td>\n",
       "      <td>NaN</td>\n",
       "      <td>Paperback</td>\n",
       "      <td>9.78068E+12</td>\n",
       "      <td>240 pages</td>\n",
       "      <td>3.59</td>\n",
       "      <td>8404</td>\n",
       "      <td>397</td>\n",
       "      <td>the rachel papers</td>\n",
       "      <td>...</td>\n",
       "      <td>Martin Amis</td>\n",
       "      <td>3.59</td>\n",
       "      <td>0679734589</td>\n",
       "      <td>9780679734581</td>\n",
       "      <td>eng</td>\n",
       "      <td>240</td>\n",
       "      <td>8180</td>\n",
       "      <td>346</td>\n",
       "      <td>9/29/1992</td>\n",
       "      <td>Vintage</td>\n",
       "    </tr>\n",
       "    <tr>\n",
       "      <th>5418</th>\n",
       "      <td>Joseph Wambaugh</td>\n",
       "      <td>A cheap hooker named Missy Moonbeam takes a fa...</td>\n",
       "      <td>NaN</td>\n",
       "      <td>Paperback</td>\n",
       "      <td>9.78055E+12</td>\n",
       "      <td>291 pages</td>\n",
       "      <td>3.63</td>\n",
       "      <td>755</td>\n",
       "      <td>22</td>\n",
       "      <td>the delta star</td>\n",
       "      <td>...</td>\n",
       "      <td>Joseph Wambaugh</td>\n",
       "      <td>3.66</td>\n",
       "      <td>0553273868</td>\n",
       "      <td>9780553273861</td>\n",
       "      <td>eng</td>\n",
       "      <td>291</td>\n",
       "      <td>592</td>\n",
       "      <td>20</td>\n",
       "      <td>1/1/1984</td>\n",
       "      <td>Bantam</td>\n",
       "    </tr>\n",
       "    <tr>\n",
       "      <th>5419</th>\n",
       "      <td>J.G. Ballard|Anthony Burgess</td>\n",
       "      <td>First published in 1978, this collection of ni...</td>\n",
       "      <td>NaN</td>\n",
       "      <td>Paperback</td>\n",
       "      <td>9.78031E+12</td>\n",
       "      <td>302 pages</td>\n",
       "      <td>4.20</td>\n",
       "      <td>1441</td>\n",
       "      <td>92</td>\n",
       "      <td>the best short stories</td>\n",
       "      <td>...</td>\n",
       "      <td>Fyodor Dostoyevsky/David Magarshack</td>\n",
       "      <td>4.26</td>\n",
       "      <td>0375756884</td>\n",
       "      <td>9780375756887</td>\n",
       "      <td>eng</td>\n",
       "      <td>320</td>\n",
       "      <td>2711</td>\n",
       "      <td>89</td>\n",
       "      <td>2/13/2001</td>\n",
       "      <td>Modern Library</td>\n",
       "    </tr>\n",
       "    <tr>\n",
       "      <th>5420</th>\n",
       "      <td>Garrison Keillor</td>\n",
       "      <td>In this thoughtful, deeply personal work, one ...</td>\n",
       "      <td>NaN</td>\n",
       "      <td>Paperback</td>\n",
       "      <td>9.78014E+12</td>\n",
       "      <td>288 pages</td>\n",
       "      <td>3.97</td>\n",
       "      <td>1266</td>\n",
       "      <td>154</td>\n",
       "      <td>homegrown democrat: a few plain thoughts from ...</td>\n",
       "      <td>...</td>\n",
       "      <td>Garrison Keillor</td>\n",
       "      <td>3.96</td>\n",
       "      <td>0143037684</td>\n",
       "      <td>9780143037682</td>\n",
       "      <td>eng</td>\n",
       "      <td>288</td>\n",
       "      <td>1182</td>\n",
       "      <td>134</td>\n",
       "      <td>8/29/2006</td>\n",
       "      <td>Penguin Books</td>\n",
       "    </tr>\n",
       "  </tbody>\n",
       "</table>\n",
       "<p>5421 rows × 23 columns</p>\n",
       "</div>"
      ],
      "text/plain": [
       "                      book_authors  \\\n",
       "0                       Harper Lee   \n",
       "1                       Harper Lee   \n",
       "2                       Harper Lee   \n",
       "3                       Harper Lee   \n",
       "4                       Harper Lee   \n",
       "...                            ...   \n",
       "5416                Kazuo Ishiguro   \n",
       "5417                   Martin Amis   \n",
       "5418               Joseph Wambaugh   \n",
       "5419  J.G. Ballard|Anthony Burgess   \n",
       "5420              Garrison Keillor   \n",
       "\n",
       "                                              book_desc      book_edition  \\\n",
       "0     The unforgettable novel of a childhood in a sl...  50th Anniversary   \n",
       "1     The unforgettable novel of a childhood in a sl...  50th Anniversary   \n",
       "2     The unforgettable novel of a childhood in a sl...  50th Anniversary   \n",
       "3     Harper Lee's Pulitzer Prize-winning masterwork...               NaN   \n",
       "4     Harper Lee's Pulitzer Prize-winning masterwork...               NaN   \n",
       "...                                                 ...               ...   \n",
       "5416  From the Booker Prize-winning, bestselling aut...               NaN   \n",
       "5417  In his uproarious first novel Martin Amis, aut...               NaN   \n",
       "5418  A cheap hooker named Missy Moonbeam takes a fa...               NaN   \n",
       "5419  First published in 1978, this collection of ni...               NaN   \n",
       "5420  In this thoughtful, deeply personal work, one ...               NaN   \n",
       "\n",
       "                book_format    book_isbn book_pages  book_rating  \\\n",
       "0                 Paperback  9.78006E+12  324 pages         4.27   \n",
       "1                 Paperback  9.78006E+12  324 pages         4.27   \n",
       "2                 Paperback  9.78006E+12  324 pages         4.27   \n",
       "3     Mass Market Paperback   9.7801E+12  309 pages         4.27   \n",
       "4     Mass Market Paperback   9.7801E+12  309 pages         4.27   \n",
       "...                     ...          ...        ...          ...   \n",
       "5416              Paperback  9.78038E+12  336 pages         3.47   \n",
       "5417              Paperback  9.78068E+12  240 pages         3.59   \n",
       "5418              Paperback  9.78055E+12  291 pages         3.63   \n",
       "5419              Paperback  9.78031E+12  302 pages         4.20   \n",
       "5420              Paperback  9.78014E+12  288 pages         3.97   \n",
       "\n",
       "      book_rating_count  book_review_count  \\\n",
       "0               3745197              79450   \n",
       "1               3745197              79450   \n",
       "2               3745197              79450   \n",
       "3               3746569              79475   \n",
       "4               3746569              79475   \n",
       "...                 ...                ...   \n",
       "5416              21291               2037   \n",
       "5417               8404                397   \n",
       "5418                755                 22   \n",
       "5419               1441                 92   \n",
       "5420               1266                154   \n",
       "\n",
       "                                                  title  ...  \\\n",
       "0                                 to kill a mockingbird  ...   \n",
       "1                                 to kill a mockingbird  ...   \n",
       "2                                 to kill a mockingbird  ...   \n",
       "3                                 to kill a mockingbird  ...   \n",
       "4                                 to kill a mockingbird  ...   \n",
       "...                                                 ...  ...   \n",
       "5416                               when we were orphans  ...   \n",
       "5417                                  the rachel papers  ...   \n",
       "5418                                     the delta star  ...   \n",
       "5419                             the best short stories  ...   \n",
       "5420  homegrown democrat: a few plain thoughts from ...  ...   \n",
       "\n",
       "                                  authors average_rating        isbn  \\\n",
       "0                              Harper Lee           4.27  0060935464   \n",
       "1                 Harper Lee/Sissy Spacek           4.27  0060888695   \n",
       "2                              Harper Lee           4.27  0061205699   \n",
       "3                              Harper Lee           4.27  0060935464   \n",
       "4                 Harper Lee/Sissy Spacek           4.27  0060888695   \n",
       "...                                   ...            ...         ...   \n",
       "5416                       Kazuo Ishiguro           3.49  0571225403   \n",
       "5417                          Martin Amis           3.59  0679734589   \n",
       "5418                      Joseph Wambaugh           3.66  0553273868   \n",
       "5419  Fyodor Dostoyevsky/David Magarshack           4.26  0375756884   \n",
       "5420                     Garrison Keillor           3.96  0143037684   \n",
       "\n",
       "             isbn13  language_code   num_pages  ratings_count  \\\n",
       "0     9780060935467            eng         323          10524   \n",
       "1     9780060888695            eng          11            697   \n",
       "2     9780061205699          en-US         323            271   \n",
       "3     9780060935467            eng         323          10524   \n",
       "4     9780060888695            eng          11            697   \n",
       "...             ...            ...         ...            ...   \n",
       "5416  9780571225408            eng         320          19252   \n",
       "5417  9780679734581            eng         240           8180   \n",
       "5418  9780553273861            eng         291            592   \n",
       "5419  9780375756887            eng         320           2711   \n",
       "5420  9780143037682            eng         288           1182   \n",
       "\n",
       "     text_reviews_count  publication_date                         publisher  \n",
       "0                   898          7/5/2005  Harper Perennial Modern Classics  \n",
       "1                   180         8/22/2006                           Caedmon  \n",
       "2                    34        10/17/2006                            Harper  \n",
       "3                   898          7/5/2005  Harper Perennial Modern Classics  \n",
       "4                   180         8/22/2006                           Caedmon  \n",
       "...                 ...               ...                               ...  \n",
       "5416               1673         12/1/2007                     Faber & Faber  \n",
       "5417                346         9/29/1992                           Vintage  \n",
       "5418                 20          1/1/1984                            Bantam  \n",
       "5419                 89         2/13/2001                    Modern Library  \n",
       "5420                134         8/29/2006                     Penguin Books  \n",
       "\n",
       "[5421 rows x 23 columns]"
      ]
     },
     "execution_count": 70,
     "metadata": {},
     "output_type": "execute_result"
    }
   ],
   "source": [
    "merged = pd.merge(books, goodreads, on='title')\n",
    "merged"
   ]
  },
  {
   "cell_type": "code",
   "execution_count": 71,
   "metadata": {},
   "outputs": [
    {
     "data": {
      "text/plain": [
       "((11123, 12), (54301, 12), (5421, 23))"
      ]
     },
     "execution_count": 71,
     "metadata": {},
     "output_type": "execute_result"
    }
   ],
   "source": [
    "goodreads.shape, books.shape, merged.shape"
   ]
  }
 ],
 "metadata": {
  "kernelspec": {
   "display_name": "Python 3",
   "language": "python",
   "name": "python3"
  },
  "language_info": {
   "codemirror_mode": {
    "name": "ipython",
    "version": 3
   },
   "file_extension": ".py",
   "mimetype": "text/x-python",
   "name": "python",
   "nbconvert_exporter": "python",
   "pygments_lexer": "ipython3",
   "version": "3.8.3"
  }
 },
 "nbformat": 4,
 "nbformat_minor": 4
}
